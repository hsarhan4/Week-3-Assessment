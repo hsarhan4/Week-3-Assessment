{
  "nbformat": 4,
  "nbformat_minor": 0,
  "metadata": {
    "colab": {
      "name": "Untitled1.ipynb",
      "provenance": [],
      "collapsed_sections": []
    },
    "kernelspec": {
      "name": "python3",
      "display_name": "Python 3"
    },
    "language_info": {
      "name": "python"
    }
  },
  "cells": [
    {
      "cell_type": "code",
      "metadata": {
        "id": "gTLr9BkdPQ2x"
      },
      "source": [
        "import requests\n",
        "import json\n",
        "def detect_lang(strng):\n",
        "    \n",
        "    url = \"https://google-translate1.p.rapidapi.com/language/translate/v2\"\n",
        "    payload = f\"q={strng}\"\n",
        "    headers = {\n",
        "    'content-type': \"application/x-www-form-urlencoded\",\n",
        "    'accept-encoding': \"application/gzip\",\n",
        "    'x-rapidapi-key': \"0a19c0d310mshb47f09b2ffe1a97p1375fcjsnccd63faadff1\",\n",
        "    'x-rapidapi-host': \"google-translate1.p.rapidapi.com\"\n",
        "    }\n",
        "\n",
        "    response = requests.request(\"POST\", url, data=payload, headers=headers)\n",
        "    data = json.loads(response.text)\n",
        "    \n",
        "    comp_lang = data['data']['detections'][0][0]['language']\n",
        "    return comp_lang"
      ],
      "execution_count": 10,
      "outputs": []
    },
    {
      "cell_type": "code",
      "metadata": {
        "id": "lDZH18NeafyP"
      },
      "source": [
        "def trans_lang(string, trans_lanng, comp_lang):\n",
        "    url = \"https://google-translate1.p.rapidapi.com/language/translate/v2\"\n",
        "\n",
        "    payload = f\"q={string}&target={trans_lanng}&source={comp_lang}\"\n",
        "    headers = {\n",
        "    'content-type': \"application/x-www-form-urlencoded\",\n",
        "    'accept-encoding': \"application/gzip\",\n",
        "    'x-rapidapi-key': \"0a19c0d310mshb47f09b2ffe1a97p1375fcjsnccd63faadff1\",\n",
        "    'x-rapidapi-host': \"google-translate1.p.rapidapi.com\"\n",
        "    }\n",
        "    response = requests.request(\"POST\", url, data=payload, headers=headers)\n",
        "    data = json.loads(response.text)\n",
        "    return data['data']['translations'][0]['translatedText']"
      ],
      "execution_count": 11,
      "outputs": []
    },
    {
      "cell_type": "code",
      "metadata": {
        "colab": {
          "base_uri": "https://localhost:8080/"
        },
        "id": "weR6NF3kkmlH",
        "outputId": "835fe6af-a9ac-4835-aeb6-8c707d1d96ad"
      },
      "source": [
        "print(\"Dear Customer, Welcome\")\n",
        "complaints = {}\n",
        "lang={\"fr\":\"french\",\"es\":\"Spanish\"}\n",
        "def language_translate():\n",
        "    is_has_complaints=True\n",
        "    while is_has_complaints:\n",
        "      user_input = input(\"Do you have any complaints for us? [1]. Yes [2]. No: \")\n",
        "      if user_input == '1':\n",
        "          user_complaint = input('what is your complaint?: ')\n",
        "          user_id =input(\"Enter your id: \")\n",
        "          if user_id in complaints.keys():\n",
        "              print('User id already exist')\n",
        "          else:\n",
        "              complaints[user_id] = user_complaint\n",
        "              print('Your complaint has been noted and will be attended to.')\n",
        "              comp_lang = detect_lang(complaints[user_id])\n",
        "              trans_language = input('which language would you want to translate to? press 1 for french 2 for spanish: ')\n",
        "              trans_language = \"fr\" if trans_language =='1'  else \"es\"\n",
        "              print(f\"The {lang[trans_language]} The translation of your complaint is: \" + trans_lang(complaints[user_id], trans_language, comp_lang))\n",
        "              print(\"------------------------------------------------------------------------------\") \n",
        "      else:\n",
        "          print ('Thank you, we are always happy to assist') \n",
        "          is_has_complaints=False"
      ],
      "execution_count": 12,
      "outputs": [
        {
          "output_type": "stream",
          "text": [
            "Dear Customer, Welcome\n"
          ],
          "name": "stdout"
        }
      ]
    },
    {
      "cell_type": "code",
      "metadata": {
        "colab": {
          "base_uri": "https://localhost:8080/",
          "height": 357
        },
        "id": "GHfZn9LOo_EW",
        "outputId": "9b109e79-779c-4f69-999a-9dfe8b7a75d5"
      },
      "source": [
        "language_translate()"
      ],
      "execution_count": 13,
      "outputs": [
        {
          "output_type": "stream",
          "text": [
            "Do you have any complaints for us? [1]. Yes [2]. No: 1\n",
            "what is your complaint?: was here\n",
            "Enter your id: 4567\n",
            "Your complaint has been noted and will be attended to.\n"
          ],
          "name": "stdout"
        },
        {
          "output_type": "error",
          "ename": "KeyError",
          "evalue": "ignored",
          "traceback": [
            "\u001b[0;31m---------------------------------------------------------------------------\u001b[0m",
            "\u001b[0;31mKeyError\u001b[0m                                  Traceback (most recent call last)",
            "\u001b[0;32m<ipython-input-13-3ab3e6173d49>\u001b[0m in \u001b[0;36m<module>\u001b[0;34m()\u001b[0m\n\u001b[0;32m----> 1\u001b[0;31m \u001b[0mlanguage_translate\u001b[0m\u001b[0;34m(\u001b[0m\u001b[0;34m)\u001b[0m\u001b[0;34m\u001b[0m\u001b[0;34m\u001b[0m\u001b[0m\n\u001b[0m",
            "\u001b[0;32m<ipython-input-12-3507c4c880a4>\u001b[0m in \u001b[0;36mlanguage_translate\u001b[0;34m()\u001b[0m\n\u001b[1;32m     14\u001b[0m               \u001b[0mcomplaints\u001b[0m\u001b[0;34m[\u001b[0m\u001b[0muser_id\u001b[0m\u001b[0;34m]\u001b[0m \u001b[0;34m=\u001b[0m \u001b[0muser_complaint\u001b[0m\u001b[0;34m\u001b[0m\u001b[0;34m\u001b[0m\u001b[0m\n\u001b[1;32m     15\u001b[0m               \u001b[0mprint\u001b[0m\u001b[0;34m(\u001b[0m\u001b[0;34m'Your complaint has been noted and will be attended to.'\u001b[0m\u001b[0;34m)\u001b[0m\u001b[0;34m\u001b[0m\u001b[0;34m\u001b[0m\u001b[0m\n\u001b[0;32m---> 16\u001b[0;31m               \u001b[0mcomp_lang\u001b[0m \u001b[0;34m=\u001b[0m \u001b[0mdetect_lang\u001b[0m\u001b[0;34m(\u001b[0m\u001b[0mcomplaints\u001b[0m\u001b[0;34m[\u001b[0m\u001b[0muser_id\u001b[0m\u001b[0;34m]\u001b[0m\u001b[0;34m)\u001b[0m\u001b[0;34m\u001b[0m\u001b[0;34m\u001b[0m\u001b[0m\n\u001b[0m\u001b[1;32m     17\u001b[0m               \u001b[0mtrans_language\u001b[0m \u001b[0;34m=\u001b[0m \u001b[0minput\u001b[0m\u001b[0;34m(\u001b[0m\u001b[0;34m'which language would you want to translate to? press 1 for french 2 for spanish: '\u001b[0m\u001b[0;34m)\u001b[0m\u001b[0;34m\u001b[0m\u001b[0;34m\u001b[0m\u001b[0m\n\u001b[1;32m     18\u001b[0m               \u001b[0mtrans_language\u001b[0m \u001b[0;34m=\u001b[0m \u001b[0;34m\"fr\"\u001b[0m \u001b[0;32mif\u001b[0m \u001b[0mtrans_language\u001b[0m \u001b[0;34m==\u001b[0m\u001b[0;34m'1'\u001b[0m  \u001b[0;32melse\u001b[0m \u001b[0;34m\"es\"\u001b[0m\u001b[0;34m\u001b[0m\u001b[0;34m\u001b[0m\u001b[0m\n",
            "\u001b[0;32m<ipython-input-10-0023da3f6e56>\u001b[0m in \u001b[0;36mdetect_lang\u001b[0;34m(strng)\u001b[0m\n\u001b[1;32m     15\u001b[0m     \u001b[0mdata\u001b[0m \u001b[0;34m=\u001b[0m \u001b[0mjson\u001b[0m\u001b[0;34m.\u001b[0m\u001b[0mloads\u001b[0m\u001b[0;34m(\u001b[0m\u001b[0mresponse\u001b[0m\u001b[0;34m.\u001b[0m\u001b[0mtext\u001b[0m\u001b[0;34m)\u001b[0m\u001b[0;34m\u001b[0m\u001b[0;34m\u001b[0m\u001b[0m\n\u001b[1;32m     16\u001b[0m \u001b[0;34m\u001b[0m\u001b[0m\n\u001b[0;32m---> 17\u001b[0;31m     \u001b[0mcomp_lang\u001b[0m \u001b[0;34m=\u001b[0m \u001b[0mdata\u001b[0m\u001b[0;34m[\u001b[0m\u001b[0;34m'data'\u001b[0m\u001b[0;34m]\u001b[0m\u001b[0;34m[\u001b[0m\u001b[0;34m'detections'\u001b[0m\u001b[0;34m]\u001b[0m\u001b[0;34m[\u001b[0m\u001b[0;36m0\u001b[0m\u001b[0;34m]\u001b[0m\u001b[0;34m[\u001b[0m\u001b[0;36m0\u001b[0m\u001b[0;34m]\u001b[0m\u001b[0;34m[\u001b[0m\u001b[0;34m'language'\u001b[0m\u001b[0;34m]\u001b[0m\u001b[0;34m\u001b[0m\u001b[0;34m\u001b[0m\u001b[0m\n\u001b[0m\u001b[1;32m     18\u001b[0m     \u001b[0;32mreturn\u001b[0m \u001b[0mcomp_lang\u001b[0m\u001b[0;34m\u001b[0m\u001b[0;34m\u001b[0m\u001b[0m\n",
            "\u001b[0;31mKeyError\u001b[0m: 'data'"
          ]
        }
      ]
    },
    {
      "cell_type": "code",
      "metadata": {
        "id": "FKjeTS0zaNpB"
      },
      "source": [
        ""
      ],
      "execution_count": null,
      "outputs": []
    }
  ]
}