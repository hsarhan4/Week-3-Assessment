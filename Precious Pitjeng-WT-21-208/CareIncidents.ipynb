{
 "cells": [
  {
   "cell_type": "code",
   "execution_count": 1,
   "id": "286fb14f",
   "metadata": {},
   "outputs": [],
   "source": [
    "\n",
    "\n",
    "# create customer care entries\n",
    "#storing customer data\n",
    "import json\n",
    "\n",
    "from datetime import datetime as dt\n",
    "\n",
    "user_complaints = {}\n",
    "\n",
    "def complaints():\n",
    "    if user_complaints:\n",
    "        name = input(\"Enter your name: \")\n",
    "        product_id = input(\"Enter the ID of the complaint: \")\n",
    "        date = str(input(\"Enter your date YYYY-MM-DD: \"))\n",
    "        date = dt.strptime(date, \"%Y-%m-%d\")\n",
    "        incident = input(\"Please enter your complaint: \")\n",
    "        print(\"Complaint received. Thanks! An agent will be in touch with you soon. Questions or suggestions you think we'd like to hear about are always welcomed\")          \n",
    "                  \n",
    "        if name == '' or product_id == '' or date == '' or incident == '': \n",
    "              print(\"Please provide a detailed description of the complaint\")\n",
    "        \n",
    "        elif product_id in user_complaints.keys() or name in user.complaints() or date in user.complaints() or incident in user.complaints():\n",
    "            print(\"Your complaint has already been received.\")\n",
    "            print(\"Do you want to register another complaint? Go ahead! Y or N\")\n",
    "            response = input()\n",
    "            if response == \"Y\" or \"y\":\n",
    "                name = input(\"Enter your name: \")\n",
    "                product_id = input(\"Enter the ID of the complaint: \")\n",
    "                date = str(input(\"Enter your date YYYY-MM-DD: \"))\n",
    "                date = dt.strptime(date, \"%Y-%m-%d\")\n",
    "                incident = input(\"Please enter your complaint: \")\n",
    "                user_complaints[product_id] = {\"name\": name, \"date\": date, \"complaint\": incident}\n",
    "                print(\"Incident Received!Thanks you! An agent will be in touch with you soon. Questions or suggestions are always welcomed\")\n",
    "            elif response == \"N\" or \"n\":\n",
    "                print(\"Thank you for giving us the opportunity to make it up to you!\")\n",
    "                \n",
    "            else:\n",
    "                for values in user_complaints.values():\n",
    "                    if product_id in values.values() or incident in values.values():\n",
    "                        print(\"Error, we have received your incident\")\n",
    "                    else:\n",
    "                        user_complaints[product_id] = {\"Name\":name, \"Date\":date, \"Incident\":incident}\n",
    "                        print(\"Complaint received. Thank you! An agent will be in touch with you soon.Questions or suggestions you think we'd like to hear about are always welcomed\")\n",
    "    else:\n",
    "        name = input(\"Enter your name: \")\n",
    "        product_id = input(\"Enter the ID of the complaint: \")\n",
    "        date = str(input(\"Enter your date YYYY-MM-DD: \"))\n",
    "        date = dt.strptime(date, \"%Y-%m-%d\")\n",
    "        incident = input(\"Please enter your complaint: \")\n",
    "        user_complaints[product_id] = {\"name\": name, \"date\": date, \"complaint\": incident}\n",
    "        print(\"Complaint received. Thank you! An agent will be in touch with you soon\")\n",
    "        \n",
    "        return(user_complaints)\n",
    "        print(\"Complaint received. Thank you! An agent will be in touch with you soon.Questions or suggestions are always welcomed\")          \n"
   ]
  },
  {
   "cell_type": "code",
   "execution_count": null,
   "id": "4f53047c",
   "metadata": {},
   "outputs": [],
   "source": [
    "complaints()\n"
   ]
  },
  {
   "cell_type": "markdown",
   "id": "1b367214",
   "metadata": {},
   "source": [
    "### JSON file"
   ]
  },
  {
   "cell_type": "code",
   "execution_count": null,
   "id": "0c6a9488",
   "metadata": {},
   "outputs": [],
   "source": [
    "def care_json(complaint_entries, filename='care.json'):\n",
    "    with open(filename, 'r+') as file:\n",
    "        file_data = json.load(file)\n",
    "        file_data.update(complaint_entries)\n",
    "        file.seek(0)\n",
    "        json.dump(file_data, file, indent=2)"
   ]
  },
  {
   "cell_type": "markdown",
   "id": "b73725c4",
   "metadata": {},
   "source": [
    "### Customer"
   ]
  },
  {
   "cell_type": "code",
   "execution_count": null,
   "id": "077e7169",
   "metadata": {},
   "outputs": [],
   "source": [
    "user_complaints = {}\n",
    "    "
   ]
  },
  {
   "cell_type": "code",
   "execution_count": null,
   "id": "0e41be5a",
   "metadata": {},
   "outputs": [],
   "source": [
    "def complaint()\n",
    "    complaint_id = 1\n",
    "    while True:\n",
    "        name = input(\"Enter your name\")\n",
    "        print(\"Welcome to our care center, {}\" .format(name))\n",
    "        product_id = input(\"Enter the ID of the complaint for: \")\n",
    "        date = dt.now()\n",
    "        incident = input(\"Please enter your complaint: \")\n",
    "        \n",
    "        if product_id in user_complaints.keys() or name in user.complaints() or date in user.complaints() or incident in user.complaints():\n",
    "            print(\"Your complaint has already been received.\")"
   ]
  },
  {
   "cell_type": "code",
   "execution_count": null,
   "id": "dc94ddf9",
   "metadata": {},
   "outputs": [],
   "source": [
    "def complain():\n",
    "    complaint_id = 1\n",
    "    while True:\n",
    "        \n",
    "        "
   ]
  },
  {
   "cell_type": "code",
   "execution_count": null,
   "id": "00d586b8",
   "metadata": {},
   "outputs": [],
   "source": []
  }
 ],
 "metadata": {
  "kernelspec": {
   "display_name": "Python 3",
   "language": "python",
   "name": "python3"
  },
  "language_info": {
   "codemirror_mode": {
    "name": "ipython",
    "version": 3
   },
   "file_extension": ".py",
   "mimetype": "text/x-python",
   "name": "python",
   "nbconvert_exporter": "python",
   "pygments_lexer": "ipython3",
   "version": "3.8.8"
  }
 },
 "nbformat": 4,
 "nbformat_minor": 5
}
