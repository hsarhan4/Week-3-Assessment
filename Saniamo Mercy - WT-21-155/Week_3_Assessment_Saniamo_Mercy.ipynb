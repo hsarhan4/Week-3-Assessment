{
 "cells": [
  {
   "cell_type": "markdown",
   "metadata": {},
   "source": [
    "**Imports**"
   ]
  },
  {
   "cell_type": "code",
   "execution_count": 8,
   "metadata": {},
   "outputs": [],
   "source": [
    "import json\n",
    "import requests"
   ]
  },
  {
   "cell_type": "markdown",
   "metadata": {},
   "source": [
    "**System welcomes the user**"
   ]
  },
  {
   "cell_type": "code",
   "execution_count": 1,
   "metadata": {},
   "outputs": [
    {
     "name": "stdout",
     "output_type": "stream",
     "text": [
      "Hi! welcome to Fastnet Technology\n"
     ]
    }
   ],
   "source": [
    "welcome = \"welcome to Fastnet Technology\"\n",
    "complains = []\n",
    "print(\"Hi! \"+ welcome)"
   ]
  },
  {
   "cell_type": "markdown",
   "metadata": {},
   "source": [
    "**System prompts user to submit a complain and notifies user if the complain has been submitted**"
   ]
  },
  {
   "cell_type": "code",
   "execution_count": 4,
   "metadata": {},
   "outputs": [
    {
     "name": "stdout",
     "output_type": "stream",
     "text": [
      "Please submit your complain: Invalid router password\n",
      "Your complain has been submitted\n"
     ]
    }
   ],
   "source": [
    "complain = input(\"Please submit your complain: \")\n",
    "complains.append(complain)\n",
    "\n",
    "print(\"Your complain has been submitted\")"
   ]
  },
  {
   "cell_type": "markdown",
   "metadata": {},
   "source": [
    "**System lists all the complains**"
   ]
  },
  {
   "cell_type": "code",
   "execution_count": 5,
   "metadata": {},
   "outputs": [
    {
     "name": "stdout",
     "output_type": "stream",
     "text": [
      "Bonjour mon internet est lent\n",
      "Credit to wrong account\n",
      "Invalid router password\n"
     ]
    }
   ],
   "source": [
    "for complain in complains:\n",
    "    print(complain)"
   ]
  },
  {
   "cell_type": "markdown",
   "metadata": {},
   "source": [
    "**System prompts user to pick a complain**"
   ]
  },
  {
   "cell_type": "code",
   "execution_count": 6,
   "metadata": {},
   "outputs": [
    {
     "name": "stdout",
     "output_type": "stream",
     "text": [
      "please select a complain(number): 1\n",
      "Bonjour mon internet est lent\n"
     ]
    }
   ],
   "source": [
    "complain_number = input(\"please select a complain(number): \")\n",
    "selected_complain = complains[int(complain_number)-1]\n",
    "print(selected_complain)"
   ]
  },
  {
   "cell_type": "markdown",
   "metadata": {},
   "source": [
    "**System detects the language used in the complain text**"
   ]
  },
  {
   "cell_type": "code",
   "execution_count": 15,
   "metadata": {},
   "outputs": [
    {
     "name": "stdout",
     "output_type": "stream",
     "text": [
      "The language is: fr\n"
     ]
    }
   ],
   "source": [
    "\n",
    "url = \"https://google-translate1.p.rapidapi.com/language/translate/v2/detect\"\n",
    "\n",
    "payload = {\n",
    "    \"q\":selected_complain\n",
    "}\n",
    "headers = {\n",
    "    'content-type': \"application/x-www-form-urlencoded\",\n",
    "    'accept-encoding': \"application/gzip\",\n",
    "    'x-rapidapi-key': \"5f54ca8d77msh3d700fe5f2d2ab3p166824jsn55a0aad25f98\",\n",
    "    'x-rapidapi-host': \"google-translate1.p.rapidapi.com\"\n",
    "    }\n",
    "\n",
    "response = requests.request(\"POST\", url, data=payload, headers=headers)\n",
    "\n",
    "data = json.loads(response.text)\n",
    "language = data[\"data\"][\"detections\"][0][0][\"language\"]\n",
    "\n",
    "print(\"The language is: \" +language)\n"
   ]
  },
  {
   "cell_type": "markdown",
   "metadata": {},
   "source": [
    "**System displays available language**"
   ]
  },
  {
   "cell_type": "code",
   "execution_count": 16,
   "metadata": {},
   "outputs": [
    {
     "name": "stdout",
     "output_type": "stream",
     "text": [
      "Available languages:  ['af', 'am', 'ar', 'az', 'be', 'bg', 'bn', 'bs', 'ca', 'ceb', 'co', 'cs', 'cy', 'da', 'de', 'el', 'en', 'eo', 'es', 'et', 'eu', 'fa', 'fi', 'fr', 'fy', 'ga', 'gd', 'gl', 'gu', 'ha', 'haw', 'he', 'hi', 'hmn', 'hr', 'ht', 'hu', 'hy', 'id', 'ig', 'is', 'it', 'iw', 'ja', 'jw', 'ka', 'kk', 'km', 'kn', 'ko', 'ku', 'ky', 'la', 'lb', 'lo', 'lt', 'lv', 'mg', 'mi', 'mk', 'ml', 'mn', 'mr', 'ms', 'mt', 'my', 'ne', 'nl', 'no', 'ny', 'or', 'pa', 'pl', 'ps', 'pt', 'ro', 'ru', 'rw', 'sd', 'si', 'sk', 'sl', 'sm', 'sn', 'so', 'sq', 'sr', 'st', 'su', 'sv', 'sw', 'ta', 'te', 'tg', 'th', 'tk', 'tl', 'tr', 'tt', 'ug', 'uk', 'ur', 'uz', 'vi', 'xh', 'yi', 'yo', 'zh', 'zh-CN', 'zh-TW', 'zu']\n"
     ]
    }
   ],
   "source": [
    "\n",
    "url = \"https://google-translate1.p.rapidapi.com/language/translate/v2/languages\"\n",
    "\n",
    "headers = {\n",
    "    'accept-encoding': \"application/gzip\",\n",
    "    'x-rapidapi-key': \"5f54ca8d77msh3d700fe5f2d2ab3p166824jsn55a0aad25f98\",\n",
    "    'x-rapidapi-host': \"google-translate1.p.rapidapi.com\"\n",
    "    }\n",
    "\n",
    "response = requests.request(\"GET\", url, headers=headers)\n",
    "data = json.loads(response.text)\n",
    "\n",
    "languages = []\n",
    "for item in data[\"data\"][\"languages\"]:\n",
    "    languages.append(item[\"language\"])\n",
    "print(\"Available languages: \",languages)"
   ]
  },
  {
   "cell_type": "markdown",
   "metadata": {},
   "source": [
    "**Prompts team member to select language to translate to**"
   ]
  },
  {
   "cell_type": "code",
   "execution_count": 18,
   "metadata": {},
   "outputs": [
    {
     "name": "stdout",
     "output_type": "stream",
     "text": [
      "Please select your preferred language: en\n"
     ]
    }
   ],
   "source": [
    "specified_language = input(\"Please select your preferred language: \")"
   ]
  },
  {
   "cell_type": "code",
   "execution_count": 19,
   "metadata": {},
   "outputs": [
    {
     "name": "stdout",
     "output_type": "stream",
     "text": [
      "Translate Bonjour mon internet est lent to: en\n"
     ]
    }
   ],
   "source": [
    "print(\"Translate \" +selected_complain+ \" to: \"+ specified_language )"
   ]
  },
  {
   "cell_type": "markdown",
   "metadata": {},
   "source": [
    "**Translates complain to specified language**"
   ]
  },
  {
   "cell_type": "code",
   "execution_count": 20,
   "metadata": {},
   "outputs": [
    {
     "name": "stdout",
     "output_type": "stream",
     "text": [
      "Bonjour mon internet est lent in en is: Hello my internet is slow\n"
     ]
    }
   ],
   "source": [
    "\n",
    "url = \"https://google-translate1.p.rapidapi.com/language/translate/v2\"\n",
    "\n",
    "payload = {\n",
    "    \"q\":selected_complain,\"target\":specified_language\n",
    "}\n",
    "headers = {\n",
    "    'content-type': \"application/x-www-form-urlencoded\",\n",
    "    'accept-encoding': \"application/gzip\",\n",
    "    'x-rapidapi-key': \"5f54ca8d77msh3d700fe5f2d2ab3p166824jsn55a0aad25f98\",\n",
    "    'x-rapidapi-host': \"google-translate1.p.rapidapi.com\"\n",
    "    }\n",
    "\n",
    "response = requests.request(\"POST\", url, data=payload, headers=headers)\n",
    "\n",
    "data = json.loads(response.text)\n",
    "\n",
    "translated_text = data[\"data\"][\"translations\"][0][\"translatedText\"]\n",
    "print(selected_complain +\" in \" +specified_language +\" is: \"+translated_text)"
   ]
  },
  {
   "cell_type": "code",
   "execution_count": null,
   "metadata": {},
   "outputs": [],
   "source": []
  }
 ],
 "metadata": {
  "kernelspec": {
   "display_name": "Python 3",
   "language": "python",
   "name": "python3"
  },
  "language_info": {
   "codemirror_mode": {
    "name": "ipython",
    "version": 3
   },
   "file_extension": ".py",
   "mimetype": "text/x-python",
   "name": "python",
   "nbconvert_exporter": "python",
   "pygments_lexer": "ipython3",
   "version": "3.8.5"
  }
 },
 "nbformat": 4,
 "nbformat_minor": 4
}
