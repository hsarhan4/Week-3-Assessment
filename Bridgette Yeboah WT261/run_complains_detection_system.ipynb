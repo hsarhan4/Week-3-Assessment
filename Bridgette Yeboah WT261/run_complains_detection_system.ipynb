{
 "cells": [
  {
   "cell_type": "code",
   "execution_count": 1,
   "id": "a8a8e4f2",
   "metadata": {},
   "outputs": [],
   "source": [
    "from build_complains_detection_system import initialize_system"
   ]
  },
  {
   "cell_type": "code",
   "execution_count": null,
   "id": "d2a7a9d4",
   "metadata": {},
   "outputs": [],
   "source": []
  },
  {
   "cell_type": "code",
   "execution_count": 2,
   "id": "fd711b14",
   "metadata": {
    "scrolled": true
   },
   "outputs": [
    {
     "name": "stdout",
     "output_type": "stream",
     "text": [
      "Welcome! Are you a customer or a team user ?\n",
      "Enter 0 for CUSTOMER: \n",
      "Enter 1 for TEAM: \n",
      "Please select your user type: 0\n",
      "Welcome Customer! \n",
      "Please submit your complain! \n",
      "I am not satisfied\n",
      "Your Complain has been submitted!\n"
     ]
    }
   ],
   "source": [
    "results = initialize_system()"
   ]
  },
  {
   "cell_type": "code",
   "execution_count": 3,
   "id": "02fbf5ea",
   "metadata": {},
   "outputs": [
    {
     "name": "stdout",
     "output_type": "stream",
     "text": [
      "Welcome! Are you a customer or a team user ?\n",
      "Enter 0 for CUSTOMER: \n",
      "Enter 1 for TEAM: \n",
      "Please select your user type: 0\n",
      "Welcome Customer! \n",
      "Please submit your complain! \n",
      "I am not used to the system\n",
      "Your Complain has been submitted!\n"
     ]
    }
   ],
   "source": [
    "results = initialize_system()"
   ]
  },
  {
   "cell_type": "code",
   "execution_count": null,
   "id": "e182be47",
   "metadata": {},
   "outputs": [],
   "source": []
  },
  {
   "cell_type": "code",
   "execution_count": 4,
   "id": "4c057ca0",
   "metadata": {
    "scrolled": true
   },
   "outputs": [
    {
     "name": "stdout",
     "output_type": "stream",
     "text": [
      "Welcome! Are you a customer or a team user ?\n",
      "Enter 0 for CUSTOMER: \n",
      "Enter 1 for TEAM: \n",
      "Please select your user type: 1\n",
      "Your complains are:  SELECT A NUMBER BELOW!\n",
      "I am not satisfied: 0\n",
      "I am not used to the system: 1\n",
      "Pick a complain from 0 to 1\n",
      "Please select a complain: 0\n",
      "You selected:  I am not satisfied\n",
      "The language detected is:  en\n",
      "Please type language you want to translate to: e.g type 'es' for spanish - check https://cloud.google.com/translate/docs/languagesfr\n",
      "The tranlslated text is:  je ne suis pas satisfait\n"
     ]
    }
   ],
   "source": [
    "results = initialize_system()"
   ]
  },
  {
   "cell_type": "code",
   "execution_count": null,
   "id": "24de214f",
   "metadata": {},
   "outputs": [],
   "source": []
  },
  {
   "cell_type": "code",
   "execution_count": null,
   "id": "dab9d73f",
   "metadata": {},
   "outputs": [],
   "source": []
  }
 ],
 "metadata": {
  "kernelspec": {
   "display_name": "Python 3",
   "language": "python",
   "name": "python3"
  },
  "language_info": {
   "codemirror_mode": {
    "name": "ipython",
    "version": 3
   },
   "file_extension": ".py",
   "mimetype": "text/x-python",
   "name": "python",
   "nbconvert_exporter": "python",
   "pygments_lexer": "ipython3",
   "version": "3.8.8"
  }
 },
 "nbformat": 4,
 "nbformat_minor": 5
}
