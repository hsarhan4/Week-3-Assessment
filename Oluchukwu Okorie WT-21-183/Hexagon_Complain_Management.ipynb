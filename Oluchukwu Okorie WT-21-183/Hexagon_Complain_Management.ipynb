{
 "cells": [
  {
   "cell_type": "markdown",
   "metadata": {
    "id": "MZC17o_852oi"
   },
   "source": [
    "## Importing Libraries"
   ]
  },
  {
   "cell_type": "code",
   "execution_count": 2,
   "metadata": {
    "id": "ZvcM6plFYTCr"
   },
   "outputs": [],
   "source": [
    "from datetime import datetime as dt\n",
    "from requests.utils import requote_uri\n",
    "import http.client\n",
    "import json"
   ]
  },
  {
   "cell_type": "markdown",
   "metadata": {
    "id": "4eGaqI3U5hGC"
   },
   "source": [
    "## The user's End"
   ]
  },
  {
   "cell_type": "code",
   "execution_count": 3,
   "metadata": {
    "id": "xgErf_Omi5ck"
   },
   "outputs": [],
   "source": [
    "user_complain = {}"
   ]
  },
  {
   "cell_type": "code",
   "execution_count": 4,
   "metadata": {
    "id": "3nyFIooCYBBr"
   },
   "outputs": [],
   "source": [
    "\n",
    "\n",
    "\n",
    "\n",
    "def complain():\n",
    "    complaint_id = 101\n",
    "    while True:\n",
    "        name = input(\"Enter your name: \")\n",
    "        print(\"Welcome to Hexagon Complaint Management , {}\".format(name))\n",
    "        product_id = input(\"Enter the ID of the product you are laying complaint for: \")\n",
    "        date = dt.now()\n",
    "        issue = input(\"Please enter your complaint: \")\n",
    "\n",
    "        if product_id in user_complain.keys() or name in user_complain.values() or date in user_complain.values() or issue in user_complain.values():\n",
    "            print('==========================')\n",
    "            yes_no = input(\"Your complaint has already been registered.\\n Do you want to register another complaint?!\\n Y for Yes and N for No: \")\n",
    "            if yes_no.lower() == \"y\":\n",
    "                continue\n",
    "            elif yes_no.lower() == \"n\":\n",
    "                print(\"Thank you,we've recieved  your complaints.\")\n",
    "                break\n",
    "            else:\n",
    "                print(\"You have entered an invalid response.\")\n",
    "                continue\n",
    "        elif name == \"\" or product_id == \"\" or date == \"\" or issue == \"\":\n",
    "            print(\"You have entered an invalid response. Please start  again.\")\n",
    "            continue\n",
    "        else:\n",
    "          user_complain[complaint_id] = {\"product_id\": product_id, \"name\": name, \"date\": date, \"complaint\": issue}\n",
    "          print('Complaint logged successfully!')\n",
    "          complaint_id += 1\n",
    "          yes_no = input(\"Do you want to register another complaint?!\\n Y for Yes and N for No: \")\n",
    "\n",
    "          if yes_no.lower() == \"y\":\n",
    "                continue\n",
    "          elif yes_no.lower() == \"n\":\n",
    "                print(\"Thank you for providing your complaint.\")\n",
    "                break\n",
    "          else:\n",
    "                print(\"You have entered an invalid response.\")\n",
    "                continue\n",
    "\n",
    "\n",
    "        "
   ]
  },
  {
   "cell_type": "code",
   "execution_count": 7,
   "metadata": {
    "id": "BLpbwg7Yin9-"
   },
   "outputs": [
    {
     "name": "stdout",
     "output_type": "stream",
     "text": [
      "Enter your name: newton\n",
      "Welcome to Hexagon Complaint Management , newton\n",
      "Enter the ID of the product you are laying complaint for: 6789\n",
      "Please enter your complaint: I have an issue with my sardine\n",
      "Complaint logged successfully!\n",
      "Do you want to register another complaint?!\n",
      " Y for Yes and N for No: y\n",
      "Enter your name: bosco\n",
      "Welcome to Hexagon Complaint Management , bosco\n",
      "Enter the ID of the product you are laying complaint for: 5876\n",
      "Please enter your complaint: I need a refund for my juice\n",
      "Complaint logged successfully!\n",
      "Do you want to register another complaint?!\n",
      " Y for Yes and N for No: n\n",
      "Thank you for providing your complaint.\n"
     ]
    }
   ],
   "source": [
    "complain()"
   ]
  },
  {
   "cell_type": "markdown",
   "metadata": {
    "id": "Y1foVeEf5IKl"
   },
   "source": [
    "## The Team's End"
   ]
  },
  {
   "cell_type": "code",
   "execution_count": 8,
   "metadata": {
    "id": "qNSsS6UQtQTs"
   },
   "outputs": [],
   "source": [
    "def api_request(coded_complaint, output_language_code):\n",
    "  conn = http.client.HTTPSConnection(\"google-translate1.p.rapidapi.com\")\n",
    "\n",
    "  headers = {\n",
    "      'content-type': \"application/x-www-form-urlencoded\",\n",
    "      'accept-encoding': \"application/gzip\",\n",
    "      'x-rapidapi-key': \"390c37a65fmsh03237005c27868ep1a87c4jsnd56c83ef5e73\",\n",
    "      'x-rapidapi-host': \"google-translate1.p.rapidapi.com\"\n",
    "      }\n",
    "\n",
    "  payload = \"q=\" + coded_complaint + \"&target=\" + output_language_code\n",
    "  print(payload)\n",
    "\n",
    "  conn.request(\"POST\", \"/language/translate/v2\", payload, headers)\n",
    "\n",
    "  res = conn.getresponse()\n",
    "  data = res.read().decode(\"utf-8\")\n",
    "  return data\n",
    "\n",
    "\n",
    "def translateFunction(user_complain):\n",
    "  complaint_choice_id = int(input(\"Please enter the complaint ID of choice you want to translate: \"))\n",
    "\n",
    "  complaint_choice = user_complain[complaint_choice_id]['complaint']\n",
    "  print(complaint_choice)\n",
    "\n",
    "  coded_complaint = requote_uri(complaint_choice)\n",
    "  print(coded_complaint)\n",
    "\n",
    "  output_language_code = input(\"Please enter the expected output language: \")\n",
    " \n",
    "  print(output_language_code)\n",
    "\n",
    "  api_call = api_request(coded_complaint, output_language_code)\n",
    "  print(api_call)\n",
    "\n",
    "  result_dict = json.loads(api_call)\n",
    "  print(\"Translation dictionary: \", result_dict)\n",
    "\n",
    "  complaint_language = result_dict[\"data\"][\"translations\"][0][\"detectedSourceLanguage\"]\n",
    "  print(\"The complaint you selected was entered in \", complaint_language)\n",
    "\n",
    "  translated_result = result_dict[\"data\"][\"translations\"][0][\"translatedText\"]\n",
    "  print(\"This selected complaint, \", complaint_choice, \" translated from \", complaint_language, \" to \", output_language_code, \" is \", translated_result)"
   ]
  },
  {
   "cell_type": "code",
   "execution_count": 9,
   "metadata": {
    "colab": {
     "base_uri": "https://localhost:8080/"
    },
    "id": "9_W-zx9Pwfl5",
    "outputId": "8759ec09-39ed-4259-dccb-1fd1f33954da"
   },
   "outputs": [
    {
     "name": "stdout",
     "output_type": "stream",
     "text": [
      "{101: {'product_id': '6789', 'name': 'newton', 'date': datetime.datetime(2021, 6, 8, 21, 17, 31, 450881), 'complaint': 'I have an issue with my sardine'}, 102: {'product_id': '5876', 'name': 'bosco', 'date': datetime.datetime(2021, 6, 8, 21, 18, 9, 248748), 'complaint': 'I need a refund for my juice'}}\n",
      "Please enter the complaint ID of choice you want to translate: 101\n",
      "I have an issue with my sardine\n",
      "I%20have%20an%20issue%20with%20my%20sardine\n",
      "Please enter the expected output language: fr\n",
      "fr\n",
      "q=I%20have%20an%20issue%20with%20my%20sardine&target=fr\n",
      "{\"message\":\"You have exceeded the MONTHLY quota for Characters on your current plan, BASIC. Upgrade your plan at https:\\/\\/rapidapi.com\\/googlecloud\\/api\\/google-translate1\"}\n",
      "Translation dictionary:  {'message': 'You have exceeded the MONTHLY quota for Characters on your current plan, BASIC. Upgrade your plan at https://rapidapi.com/googlecloud/api/google-translate1'}\n"
     ]
    },
    {
     "ename": "KeyError",
     "evalue": "'data'",
     "output_type": "error",
     "traceback": [
      "\u001b[1;31m---------------------------------------------------------------------------\u001b[0m",
      "\u001b[1;31mKeyError\u001b[0m                                  Traceback (most recent call last)",
      "\u001b[1;32m<ipython-input-9-44c4a85db70c>\u001b[0m in \u001b[0;36m<module>\u001b[1;34m\u001b[0m\n\u001b[0;32m      2\u001b[0m \u001b[1;33m\u001b[0m\u001b[0m\n\u001b[0;32m      3\u001b[0m \u001b[1;33m\u001b[0m\u001b[0m\n\u001b[1;32m----> 4\u001b[1;33m \u001b[0mtranslateFunction\u001b[0m\u001b[1;33m(\u001b[0m\u001b[0muser_complain\u001b[0m\u001b[1;33m)\u001b[0m\u001b[1;33m\u001b[0m\u001b[1;33m\u001b[0m\u001b[0m\n\u001b[0m\u001b[0;32m      5\u001b[0m \u001b[1;33m\u001b[0m\u001b[0m\n\u001b[0;32m      6\u001b[0m \u001b[1;33m\u001b[0m\u001b[0m\n",
      "\u001b[1;32m<ipython-input-8-e81312c5b2aa>\u001b[0m in \u001b[0;36mtranslateFunction\u001b[1;34m(user_complain)\u001b[0m\n\u001b[0;32m     38\u001b[0m   \u001b[0mprint\u001b[0m\u001b[1;33m(\u001b[0m\u001b[1;34m\"Translation dictionary: \"\u001b[0m\u001b[1;33m,\u001b[0m \u001b[0mresult_dict\u001b[0m\u001b[1;33m)\u001b[0m\u001b[1;33m\u001b[0m\u001b[1;33m\u001b[0m\u001b[0m\n\u001b[0;32m     39\u001b[0m \u001b[1;33m\u001b[0m\u001b[0m\n\u001b[1;32m---> 40\u001b[1;33m   \u001b[0mcomplaint_language\u001b[0m \u001b[1;33m=\u001b[0m \u001b[0mresult_dict\u001b[0m\u001b[1;33m[\u001b[0m\u001b[1;34m\"data\"\u001b[0m\u001b[1;33m]\u001b[0m\u001b[1;33m[\u001b[0m\u001b[1;34m\"translations\"\u001b[0m\u001b[1;33m]\u001b[0m\u001b[1;33m[\u001b[0m\u001b[1;36m0\u001b[0m\u001b[1;33m]\u001b[0m\u001b[1;33m[\u001b[0m\u001b[1;34m\"detectedSourceLanguage\"\u001b[0m\u001b[1;33m]\u001b[0m\u001b[1;33m\u001b[0m\u001b[1;33m\u001b[0m\u001b[0m\n\u001b[0m\u001b[0;32m     41\u001b[0m   \u001b[0mprint\u001b[0m\u001b[1;33m(\u001b[0m\u001b[1;34m\"The complaint you selected was entered in \"\u001b[0m\u001b[1;33m,\u001b[0m \u001b[0mcomplaint_language\u001b[0m\u001b[1;33m)\u001b[0m\u001b[1;33m\u001b[0m\u001b[1;33m\u001b[0m\u001b[0m\n\u001b[0;32m     42\u001b[0m \u001b[1;33m\u001b[0m\u001b[0m\n",
      "\u001b[1;31mKeyError\u001b[0m: 'data'"
     ]
    }
   ],
   "source": [
    "print(user_complain)\n",
    "\n",
    "\n",
    "translateFunction(user_complain)\n",
    "\n",
    "\n",
    "while True: \n",
    "  proceed_target = input(\"Translate another complaint? \")\n",
    "  if proceed_target.lower() == \"yes\":\n",
    "    translateFunction(user_complain)\n",
    "\n",
    "  elif proceed_target.lower() == \"no\":\n",
    "    break\n",
    "  else:\n",
    "    print(\"This is not a supported entry. Supported entries are yes and no.\")\n",
    "    continue"
   ]
  }
 ],
 "metadata": {
  "colab": {
   "name": "Complaint Management.ipynb",
   "provenance": []
  },
  "kernelspec": {
   "display_name": "Python 3",
   "language": "python",
   "name": "python3"
  },
  "language_info": {
   "codemirror_mode": {
    "name": "ipython",
    "version": 3
   },
   "file_extension": ".py",
   "mimetype": "text/x-python",
   "name": "python",
   "nbconvert_exporter": "python",
   "pygments_lexer": "ipython3",
   "version": "3.8.5"
  }
 },
 "nbformat": 4,
 "nbformat_minor": 1
}
