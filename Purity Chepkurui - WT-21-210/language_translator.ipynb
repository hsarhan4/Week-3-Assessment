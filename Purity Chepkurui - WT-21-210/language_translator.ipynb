{
 "cells": [
  {
   "cell_type": "code",
   "execution_count": 1,
   "metadata": {},
   "outputs": [],
   "source": [
    "import json\n",
    "import requests\n",
    "complaints={}"
   ]
  },
  {
   "cell_type": "code",
   "execution_count": 2,
   "metadata": {},
   "outputs": [],
   "source": [
    "\n",
    "def submit_complaint():\n",
    "    name= input('Enter your name:')\n",
    "    complaint= input('Enter your complaint:')\n",
    "    complaints[name]=complaint\n",
    "    if(list(complaints.keys())[-1] == name and list(complaints.values())[-1] == complaint):\n",
    "        print('=============================')\n",
    "        print('Your complaint has been recorded')\n",
    "    "
   ]
  },
  {
   "cell_type": "code",
   "execution_count": 3,
   "metadata": {},
   "outputs": [],
   "source": [
    "def complaints_list():\n",
    "    print('complaints:', complaints)"
   ]
  },
  {
   "cell_type": "code",
   "execution_count": 4,
   "metadata": {},
   "outputs": [],
   "source": [
    "def translate(pick,target):\n",
    "    url = \"https://google-translate1.p.rapidapi.com/language/translate/v2\"\n",
    "    \n",
    "    \n",
    "    word= pick.split(' ')\n",
    "   \n",
    "    \n",
    "    payload= f\"q={'%20'.join(word)}&target={target}\"\n",
    "    headers = {\n",
    "    'content-type': \"application/x-www-form-urlencoded\",\n",
    "    'accept-encoding': \"application/gzip\",\n",
    "    'x-rapidapi-key': \"ed759af848msh3f1b3449dc5a814p19dc1cjsn744f99072628\",\n",
    "    'x-rapidapi-host': \"google-translate1.p.rapidapi.com\"\n",
    "    }\n",
    "    response = requests.request(\"POST\", url, data=payload, headers=headers)\n",
    "    print(response.json())\n",
    "   "
   ]
  },
  {
   "cell_type": "code",
   "execution_count": 29,
   "metadata": {},
   "outputs": [],
   "source": [
    "def detect(pick):\n",
    "    url = \"https://google-translate1.p.rapidapi.com/language/translate/v2/detect\"\n",
    "    word= pick.split(' ')\n",
    "    payload= f\"q={'%20'.join(word)}\"\n",
    "    headers = {\n",
    "    'content-type': \"application/x-www-form-urlencoded\",\n",
    "    'accept-encoding': \"application/gzip\",\n",
    "    'x-rapidapi-key': \"ed759af848msh3f1b3449dc5a814p19dc1cjsn744f99072628\",\n",
    "    'x-rapidapi-host': \"google-translate1.p.rapidapi.com\"\n",
    "    }\n",
    "\n",
    "    response = requests.request(\"POST\", url, data=payload, headers=headers)\n",
    "    print(response.text)"
   ]
  },
  {
   "cell_type": "code",
   "execution_count": 48,
   "metadata": {},
   "outputs": [],
   "source": [
    "def main():\n",
    "    runtime=1\n",
    "    print('Welcome to our complaints platform!')\n",
    "    while runtime:\n",
    "        counter = int(input('Enter 0 to submitComplaint, 1 for complaints list, 2 for pick complaint, 3 for detecting lang, 4 for translating complaint, 5 to quit: '))\n",
    "        \n",
    "        if counter == 0:\n",
    "            submit_complaint()\n",
    "        elif counter == 1:\n",
    "            complaints_list()\n",
    "        elif counter == 2:\n",
    "            pick= input('Pick a complaint name from the list above:')\n",
    "            return complaints[pick]\n",
    "        elif counter == 3:\n",
    "            pick= input('Pick a complaint name from the list above to detect:')\n",
    "            detect(complaints[pick])\n",
    "        elif counter == 4:\n",
    "            pick= input('Pick a user/name  from the list above to translate eg purity:')\n",
    "            target = input('Enter a target language for translation  :')\n",
    "            translate(complaints[pick],target)\n",
    "        elif counter == 5:\n",
    "            break\n",
    "        else:\n",
    "            print('Invalid value, try again')\n",
    "            main()\n",
    "        \n",
    "\n",
    "        "
   ]
  },
  {
   "cell_type": "code",
   "execution_count": null,
   "metadata": {},
   "outputs": [],
   "source": [
    "main()"
   ]
  },
  {
   "cell_type": "code",
   "execution_count": null,
   "metadata": {},
   "outputs": [],
   "source": []
  },
  {
   "cell_type": "code",
   "execution_count": null,
   "metadata": {},
   "outputs": [],
   "source": []
  }
 ],
 "metadata": {
  "kernelspec": {
   "display_name": "Python 3",
   "language": "python",
   "name": "python3"
  },
  "language_info": {
   "codemirror_mode": {
    "name": "ipython",
    "version": 3
   },
   "file_extension": ".py",
   "mimetype": "text/x-python",
   "name": "python",
   "nbconvert_exporter": "python",
   "pygments_lexer": "ipython3",
   "version": "3.7.1"
  }
 },
 "nbformat": 4,
 "nbformat_minor": 2
}
