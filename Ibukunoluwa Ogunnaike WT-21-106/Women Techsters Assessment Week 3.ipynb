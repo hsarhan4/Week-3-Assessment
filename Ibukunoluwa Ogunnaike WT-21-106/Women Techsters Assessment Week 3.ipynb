{
 "cells": [
  {
   "cell_type": "markdown",
   "metadata": {},
   "source": [
    "# IMPORTING DEPENDENCIES\n"
   ]
  },
  {
   "cell_type": "code",
   "execution_count": 2,
   "metadata": {},
   "outputs": [],
   "source": [
    "from datetime import datetime as dt\n",
    "from requests.utils import requote_uri\n",
    "import http.client\n",
    "import json"
   ]
  },
  {
   "cell_type": "markdown",
   "metadata": {},
   "source": [
    "# FOR THE USER"
   ]
  },
  {
   "cell_type": "code",
   "execution_count": 3,
   "metadata": {},
   "outputs": [],
   "source": [
    "#Create a bank for the complaints\n",
    "complaints_bank = {}"
   ]
  },
  {
   "cell_type": "code",
   "execution_count": 4,
   "metadata": {},
   "outputs": [],
   "source": [
    "# create signup page\n",
    "# create empty dictionary that marks the unique ID of the person to the complaint\n",
    "\n",
    "\n",
    "def complain():\n",
    "    complaint_id = 1\n",
    "    while True:\n",
    "        name = input(\"Enter your name: \")\n",
    "        print(\"Welcome to Customer Care Unit , {}\".format(name))\n",
    "        order_id = input(\"Enter the ID of the order you are laying complaint for: \")\n",
    "        date = dt.now()\n",
    "        issue = input(\"Kndly input your complaint: \")\n",
    "\n",
    "        if order_id in complaints_bank.keys() or name in complaints_bank.values() or date in complaints_bank.values() or issue in complaints_bank.values():\n",
    "            print('==========================')\n",
    "            yes_no = input(\"Your complaint has already been recorded.\\n Do you want to record another complaint?!\\n Y for Yes and N for No: \")\n",
    "            if yes_no.lower() == \"y\":\n",
    "                continue\n",
    "            elif yes_no.lower() == \"n\":\n",
    "                print(\"Your complaint has been recorded. We will place a call to you shortly.\")\n",
    "                break\n",
    "            else:\n",
    "                print(\"Invalid response!. Try again.\")\n",
    "                continue\n",
    "        elif name == \"\" or order_id == \"\" or date == \"\" or issue == \"\":\n",
    "            print(\"You have entered an invalid response!. Try again.\")\n",
    "            continue\n",
    "        else:\n",
    "            complaints_bank[complaint_id] = {\"order_id\": order_id, \"name\": name, \"date\": date, \"complaint\": issue}\n",
    "            print('Your complaint has been recorded. We will place a call to you shortly.')\n",
    "            complaint_id += 1\n",
    "            yes_no = input(\"Do you want to record another complaint?!\\n Y for Yes and N for No: \")\n",
    "            \n",
    "            if yes_no.lower() == \"y\":\n",
    "                continue\n",
    "            elif yes_no.lower() == \"n\":\n",
    "                print(\"Thank you for your feedback.\")\n",
    "                break\n",
    "            else:\n",
    "                print(\"Invalid response!. Try again\")\n",
    "                continue\n",
    "            "
   ]
  },
  {
   "cell_type": "code",
   "execution_count": 5,
   "metadata": {},
   "outputs": [
    {
     "name": "stdout",
     "output_type": "stream",
     "text": [
      "Enter your name: Ibukunoluwa Oguns\n",
      "Welcome to Customer Care Unit , Ibukunoluwa Oguns\n",
      "Enter the ID of the order you are laying complaint for: 1234\n",
      "Kndly input your complaint: The T-shirt isn't my size, it is small.\n",
      "Your complaint has been recorded. We will place a call to you shortly.\n",
      "Do you want to record another complaint?!\n",
      " Y for Yes and N for No: y\n",
      "Enter your name: Ibukunoluwa Oguns\n",
      "Welcome to Customer Care Unit , Ibukunoluwa Oguns\n",
      "Enter the ID of the order you are laying complaint for: 9087\n",
      "Kndly input your complaint: The shoe is too big\n",
      "Your complaint has been recorded. We will place a call to you shortly.\n",
      "Do you want to record another complaint?!\n",
      " Y for Yes and N for No: n\n",
      "Thank you for your feedback.\n"
     ]
    }
   ],
   "source": [
    "complain()"
   ]
  },
  {
   "cell_type": "markdown",
   "metadata": {},
   "source": [
    "# FOR THE TEAM"
   ]
  },
  {
   "cell_type": "code",
   "execution_count": 6,
   "metadata": {},
   "outputs": [],
   "source": [
    "def api_request(coded_complaint, output_language_code):\n",
    "    conn = http.client.HTTPSConnection(\"google-translate1.p.rapidapi.com\")\n",
    "\n",
    "    headers = {\n",
    "      'content-type': \"application/x-www-form-urlencoded\",\n",
    "      'accept-encoding': \"application/gzip\",\n",
    "      'x-rapidapi-key': \"9129d2818amsh370465bf51d5e0cp155a2djsn86f4bc1ae762\",\n",
    "      'x-rapidapi-host': \"google-translate1.p.rapidapi.com\"\n",
    "      }\n",
    "\n",
    "    payload = \"q=\" + coded_complaint + \"&target=\" + output_language_code\n",
    "    print(payload)\n",
    "\n",
    "    conn.request(\"POST\", \"/language/translate/v2\", payload, headers)\n",
    "\n",
    "    res = conn.getresponse()\n",
    "    data = res.read().decode(\"utf-8\")\n",
    "    return data\n",
    "\n",
    "\n",
    "\n",
    "def translateFunction(complaints_bank):\n",
    "    complaint_choice_id = int(input(\"Please enter the complaint ID of choice you want to translate: \"))\n",
    "\n",
    "    complaint_choice = complaints_bank[complaint_choice_id]['complaint']\n",
    "    print(complaint_choice)\n",
    "\n",
    "    coded_complaint = requote_uri(complaint_choice)\n",
    "    print(coded_complaint)\n",
    "\n",
    "    output_language_code = input(\"Please enter the expected output language: \")\n",
    " \n",
    "    print(output_language_code)\n",
    "\n",
    "    api_call = api_request(coded_complaint, output_language_code)\n",
    "    print(api_call)\n",
    "\n",
    "    result_dict = json.loads(api_call)\n",
    "    print(\"Translation dictionary: \", result_dict)\n",
    "\n",
    "    complaint_language = result_dict[\"data\"][\"translations\"][0][\"detectedSourceLanguage\"]\n",
    "    print(\"The complaint you selected was entered in \", complaint_language)\n",
    "\n",
    "    translated_result = result_dict[\"data\"][\"translations\"][0][\"translatedText\"]\n",
    "    print(\"This selected complaint, \", complaint_choice, \" translated from \", complaint_language, \" to \", output_language_code, \" is \", translated_result)"
   ]
  },
  {
   "cell_type": "code",
   "execution_count": 8,
   "metadata": {},
   "outputs": [
    {
     "name": "stdout",
     "output_type": "stream",
     "text": [
      "{1: {'order_id': '1234', 'name': 'Ibukunoluwa Oguns', 'date': datetime.datetime(2021, 6, 10, 13, 4, 35, 662497), 'complaint': \"The T-shirt isn't my size, it is small.\"}, 2: {'order_id': '9087', 'name': 'Ibukunoluwa Oguns', 'date': datetime.datetime(2021, 6, 10, 13, 5, 14, 582208), 'complaint': 'The shoe is too big'}}\n",
      "Please enter the complaint ID of choice you want to translate: 1\n",
      "The T-shirt isn't my size, it is small.\n",
      "The%20T-shirt%20isn't%20my%20size,%20it%20is%20small.\n",
      "Please enter the expected output language: es\n",
      "es\n",
      "q=The%20T-shirt%20isn't%20my%20size,%20it%20is%20small.&target=es\n",
      "{\"data\":{\"translations\":[{\"translatedText\":\"La camiseta no es de mi talla, es pequeña.\",\"detectedSourceLanguage\":\"en\"}]}}\n",
      "Translation dictionary:  {'data': {'translations': [{'translatedText': 'La camiseta no es de mi talla, es pequeña.', 'detectedSourceLanguage': 'en'}]}}\n",
      "The complaint you selected was entered in  en\n",
      "This selected complaint,  The T-shirt isn't my size, it is small.  translated from  en  to  es  is  La camiseta no es de mi talla, es pequeña.\n",
      "Do you want to Translate another complaint? fr\n",
      "Invalid Response. Valid Entreis are yes and no.\n",
      "Do you want to Translate another complaint? n\n",
      "Invalid Response. Valid Entreis are yes and no.\n",
      "Do you want to Translate another complaint? no\n"
     ]
    }
   ],
   "source": [
    "print(complaints_bank)\n",
    "\n",
    "translateFunction(complaints_bank)\n",
    "\n",
    "\n",
    "while True: \n",
    "    proceed_target = input(\"Do you want to Translate another complaint? \")\n",
    "    if proceed_target.lower() == \"yes\":\n",
    "        translateFunction(complaints_bank)\n",
    "\n",
    "    elif proceed_target.lower() == \"no\":\n",
    "        break\n",
    "    else:\n",
    "        print(\"Invalid Response. Valid Entreis are yes and no.\")\n",
    "        continue"
   ]
  },
  {
   "cell_type": "code",
   "execution_count": null,
   "metadata": {},
   "outputs": [],
   "source": []
  },
  {
   "cell_type": "code",
   "execution_count": null,
   "metadata": {},
   "outputs": [],
   "source": []
  }
 ],
 "metadata": {
  "kernelspec": {
   "display_name": "Python 3",
   "language": "python",
   "name": "python3"
  },
  "language_info": {
   "codemirror_mode": {
    "name": "ipython",
    "version": 3
   },
   "file_extension": ".py",
   "mimetype": "text/x-python",
   "name": "python",
   "nbconvert_exporter": "python",
   "pygments_lexer": "ipython3",
   "version": "3.8.5"
  }
 },
 "nbformat": 4,
 "nbformat_minor": 4
}
