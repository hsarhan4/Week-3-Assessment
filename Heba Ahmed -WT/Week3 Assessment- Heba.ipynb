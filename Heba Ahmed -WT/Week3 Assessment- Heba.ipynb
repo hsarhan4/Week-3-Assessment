{
 "cells": [
  {
   "cell_type": "code",
   "execution_count": null,
   "metadata": {},
   "outputs": [],
   "source": [
    "users_list={}\n",
    "\n",
    "def welcome_message():\n",
    "    user= input(\"Please Enter you username\")\n",
    "    print(\"Welcome\", user)\n",
    "    \n",
    "reg_complain= input(\"Please press 1 to sumbit a complaint\")\n",
    "if checker == 1:\n",
    "    register_request()\n",
    "else:\n",
    "    break"
   ]
  },
  {
   "cell_type": "code",
   "execution_count": null,
   "metadata": {},
   "outputs": [],
   "source": [
    "def register_request():\n",
    "    if user_list:\n",
    "        complaint_no = input(\"Kindly enter complaint id: \")\n",
    "        name = input(\"kindly enter your name: \")\n",
    "        complaint = input(\"Enetr your complaint: \")\n",
    "        date = datetime.date(datetime.now())\n",
    "        user_list[complaintId]={\"Id\":complaint_no, \"Name\":name, \"Complaint\":complaint, \"Date\":date}\n",
    "        print(userComplaints)\n",
    "        print(\"Your complaint submitted at\", date, \" We can get back to you sooner\")\n",
    "    else:\n",
    "        complaint_no = input(\"Please enter complaint id: \")\n",
    "        name = input(\"Please enter your name: \")\n",
    "        complaint = input(\"Enetr your complaint: \")\n",
    "        date = datetime.date(datetime.now())\n",
    "        userComplaints[complaintId]={\"Id\":complaintId, \"Name\":name, \"Complaint\":complaint, \"Date\":date}\n",
    "        print(userComplaints)\n",
    "        print(\"We recorded your complaints at\", date ,\" we can get back to you sooner\")\n",
    "        print(\"*****************************\")"
   ]
  },
  {
   "cell_type": "code",
   "execution_count": null,
   "metadata": {},
   "outputs": [],
   "source": [
    "def check_request(complaintName):\n",
    "        for record in user_list.values():\n",
    "            if complaintName in record.values():\n",
    "                print(\"The user complaint is \",complaintName)\n",
    "                tran_complaint(complaintName) "
   ]
  },
  {
   "cell_type": "code",
   "execution_count": 10,
   "metadata": {},
   "outputs": [],
   "source": [
    "#post translate"
   ]
  },
  {
   "cell_type": "code",
   "execution_count": 7,
   "metadata": {},
   "outputs": [
    {
     "name": "stdout",
     "output_type": "stream",
     "text": [
      "{\"data\":{\"translations\":[{\"translatedText\":\"¡Hola Mundo!\"}]}}\n"
     ]
    }
   ],
   "source": [
    "import requests\n",
    "\n",
    "url = \"https://google-translate1.p.rapidapi.com/language/translate/v2\"\n",
    "\n",
    "payload = \"q=Hello%2C%20world!&target=es&source=en\"\n",
    "headers = {\n",
    "    'content-type': \"application/x-www-form-urlencoded\",\n",
    "    'accept-encoding': \"application/gzip\",\n",
    "    'x-rapidapi-key': \"f67c7333fdmsh5a9dc6b213e9ac0p105e66jsn06699e794c8e\",\n",
    "    'x-rapidapi-host': \"google-translate1.p.rapidapi.com\"\n",
    "    }\n",
    "\n",
    "response = requests.request(\"POST\", url, data=payload, headers=headers)\n",
    "\n",
    "print(response.text)"
   ]
  },
  {
   "cell_type": "code",
   "execution_count": 8,
   "metadata": {},
   "outputs": [],
   "source": [
    "##Post Detect"
   ]
  },
  {
   "cell_type": "code",
   "execution_count": 9,
   "metadata": {},
   "outputs": [
    {
     "name": "stdout",
     "output_type": "stream",
     "text": [
      "{\"data\":{\"detections\":[[{\"language\":\"en\",\"confidence\":1,\"isReliable\":false}]]}}\n"
     ]
    }
   ],
   "source": [
    "import requests\n",
    "\n",
    "url = \"https://google-translate1.p.rapidapi.com/language/translate/v2/detect\"\n",
    "\n",
    "payload = \"q=English%20is%20hard%2C%20but%20detectably%20so\"\n",
    "headers = {\n",
    "    'content-type': \"application/x-www-form-urlencoded\",\n",
    "    'accept-encoding': \"application/gzip\",\n",
    "    'x-rapidapi-key': \"f67c7333fdmsh5a9dc6b213e9ac0p105e66jsn06699e794c8e\",\n",
    "    'x-rapidapi-host': \"google-translate1.p.rapidapi.com\"\n",
    "    }\n",
    "\n",
    "response = requests.request(\"POST\", url, data=payload, headers=headers)\n",
    "\n",
    "print(response.text)"
   ]
  },
  {
   "cell_type": "code",
   "execution_count": null,
   "metadata": {},
   "outputs": [],
   "source": [
    "from googletrans import Translator\n",
    "\n",
    "def translate_request(user_complain):\n",
    "     translator = Translator()\n",
    "        langComplaint = translator.translate(lanComplaint, dest=\"en\")\n",
    "        print(\"your complain is\",langComplaint.text)\n",
    "        print(\"your Complaint language is\",langComplaint.src)\n"
   ]
  },
  {
   "cell_type": "code",
   "execution_count": null,
   "metadata": {},
   "outputs": [],
   "source": [
    "welcomeMess()\n",
    "print(register_request)"
   ]
  }
 ],
 "metadata": {
  "kernelspec": {
   "display_name": "Python 3",
   "language": "python",
   "name": "python3"
  },
  "language_info": {
   "codemirror_mode": {
    "name": "ipython",
    "version": 3
   },
   "file_extension": ".py",
   "mimetype": "text/x-python",
   "name": "python",
   "nbconvert_exporter": "python",
   "pygments_lexer": "ipython3",
   "version": "3.8.5"
  }
 },
 "nbformat": 4,
 "nbformat_minor": 4
}
