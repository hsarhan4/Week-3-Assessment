{
 "cells": [
  {
   "cell_type": "markdown",
   "metadata": {},
   "source": [
    "## Imports"
   ]
  },
  {
   "cell_type": "code",
   "execution_count": 6,
   "metadata": {},
   "outputs": [],
   "source": [
    "from datetime import datetime as dt\n",
    "from requests.utils import requote_uri\n",
    "import http.client\n",
    "import json"
   ]
  },
  {
   "cell_type": "markdown",
   "metadata": {},
   "source": [
    "## User Registration"
   ]
  },
  {
   "cell_type": "code",
   "execution_count": 7,
   "metadata": {},
   "outputs": [],
   "source": [
    "user_complain = {}"
   ]
  },
  {
   "cell_type": "code",
   "execution_count": 9,
   "metadata": {},
   "outputs": [],
   "source": [
    "def complain():\n",
    "    complaint_id = 1\n",
    "    while True:\n",
    "        name = input(\"Enter your name: \")\n",
    "        print(\"Welcome to our Complaint Management System, {}\".format(name))\n",
    "        product_id = input(\"Enter the ID of the product you are placing a complaint for: \")\n",
    "        date = dt.now()\n",
    "        issue = input(\"Please enter your complaint: \")\n",
    "\n",
    "        if product_id in user_complain.keys() or name in user_complain.values() or date in user_complain.values() or issue in user_complain.values():\n",
    "            print('==========================')\n",
    "            yes_no = input(\"Your complaint has already been registered.\\n Do you want to register another complaint?!\\n Y for Yes and N for No: \")\n",
    "            if yes_no.lower() == \"y\":\n",
    "                continue\n",
    "            elif yes_no.lower() == \"n\":\n",
    "                print(\"Thank you for providing your complaint.\")\n",
    "                break\n",
    "            else:\n",
    "                print(\"You have entered an invalid response.\")\n",
    "                continue\n",
    "        elif name == \"\" or product_id == \"\" or date == \"\" or issue == \"\":\n",
    "            print(\"You have entered an invalid response. Please start all over again.\")\n",
    "            continue\n",
    "        else:\n",
    "          user_complain[complaint_id] = {\"product_id\": product_id, \"name\": name, \"date\": date, \"complaint\": issue}\n",
    "          print('Complaint logged successfully!')\n",
    "          complaint_id += 1\n",
    "          yes_no = input(\"Do you want to register another complaint?!\\n Y for Yes and N for No: \")\n",
    "\n",
    "          if yes_no.lower() == \"y\":\n",
    "                continue\n",
    "          elif yes_no.lower() == \"n\":\n",
    "                print(\"Thank you for providing your complaint.\")\n",
    "                break\n",
    "          else:\n",
    "                print(\"You have entered an invalid response.\")\n",
    "                continue\n",
    "\n"
   ]
  },
  {
   "cell_type": "code",
   "execution_count": 10,
   "metadata": {},
   "outputs": [
    {
     "name": "stdout",
     "output_type": "stream",
     "text": [
      "Enter your name: Faith Tonders\n",
      "Welcome to our Complaint Management System, Faith Tonders\n",
      "Enter the ID of the product you are placing a complaint for: 75295819\n",
      "Please enter your complaint: Cannot process payments\n",
      "Complaint logged successfully!\n",
      "Do you want to register another complaint?!\n",
      " Y for Yes and N for No: y\n",
      "Enter your name: Pauline Chengeta\n",
      "Welcome to our Complaint Management System, Pauline Chengeta\n",
      "Enter the ID of the product you are placing a complaint for: 75234567\n",
      "Please enter your complaint: I keep getting errors when processing account\n",
      "Complaint logged successfully!\n",
      "Do you want to register another complaint?!\n",
      " Y for Yes and N for No: n\n",
      "Thank you for providing your complaint.\n"
     ]
    }
   ],
   "source": [
    "complain()\n"
   ]
  },
  {
   "cell_type": "markdown",
   "metadata": {},
   "source": [
    "## API Translators, Dictionaries"
   ]
  },
  {
   "cell_type": "code",
   "execution_count": 11,
   "metadata": {},
   "outputs": [],
   "source": [
    "def api_request(coded_complaint, output_language_code):\n",
    "  conn = http.client.HTTPSConnection(\"google-translate1.p.rapidapi.com\")\n",
    "\n",
    "  headers = {\n",
    "      'content-type': \"application/x-www-form-urlencoded\",\n",
    "      'accept-encoding': \"application/gzip\",\n",
    "      'x-rapidapi-key': \"390c37a65fmsh03237005c27868ep1a87c4jsnd56c83ef5e73\",\n",
    "      'x-rapidapi-host': \"google-translate1.p.rapidapi.com\"\n",
    "      }\n",
    "\n",
    "  payload = \"q=\" + coded_complaint + \"&target=\" + output_language_code\n",
    "  print(payload)\n",
    "\n",
    "  conn.request(\"POST\", \"/language/translate/v2\", payload, headers)\n",
    "\n",
    "  res = conn.getresponse()\n",
    "  data = res.read().decode(\"utf-8\")\n",
    "  return data\n",
    "\n",
    "\n",
    "def translateFunction(user_complain):\n",
    "  complaint_choice_id = int(input(\"Please enter the complaint ID of choice you want to translate: \"))\n",
    "\n",
    "  complaint_choice = user_complain[complaint_choice_id]['complaint']\n",
    "  print(complaint_choice)\n",
    "\n",
    "  coded_complaint = requote_uri(complaint_choice)\n",
    "  print(coded_complaint)\n",
    "\n",
    "  output_language_code = input(\"Please enter the expected output language: \")\n",
    " \n",
    "  print(output_language_code)\n",
    "\n",
    "  api_call = api_request(coded_complaint, output_language_code)\n",
    "  print(api_call)\n",
    "\n",
    "  result_dict = json.loads(api_call)\n",
    "  print(\"Translation dictionary: \", result_dict)\n",
    "\n",
    "  complaint_language = result_dict[\"data\"][\"translations\"][0][\"detectedSourceLanguage\"]\n",
    "  print(\"The complaint you selected was entered in \", complaint_language)\n",
    "\n",
    "  translated_result = result_dict[\"data\"][\"translations\"][0][\"translatedText\"]\n",
    "  print(\"This selected complaint, \", complaint_choice, \" translated from \", complaint_language, \" to \", output_language_code, \" is \", translated_result)"
   ]
  },
  {
   "cell_type": "code",
   "execution_count": 12,
   "metadata": {},
   "outputs": [
    {
     "name": "stdout",
     "output_type": "stream",
     "text": [
      "{1: {'product_id': '75295819', 'name': 'Faith Tonders', 'date': datetime.datetime(2021, 6, 4, 19, 4, 27, 306481), 'complaint': 'Cannot process payments'}, 2: {'product_id': '75234567', 'name': 'Pauline Chengeta', 'date': datetime.datetime(2021, 6, 4, 19, 7, 7, 906847), 'complaint': 'I keep getting errors when processing account'}}\n",
      "Please enter the complaint ID of choice you want to translate: 1\n",
      "Cannot process payments\n",
      "Cannot%20process%20payments\n",
      "Please enter the expected output language: es\n",
      "es\n",
      "q=Cannot%20process%20payments&target=es\n",
      "{\"data\":{\"translations\":[{\"translatedText\":\"No se pueden procesar pagos\",\"detectedSourceLanguage\":\"en\"}]}}\n",
      "Translation dictionary:  {'data': {'translations': [{'translatedText': 'No se pueden procesar pagos', 'detectedSourceLanguage': 'en'}]}}\n",
      "The complaint you selected was entered in  en\n",
      "This selected complaint,  Cannot process payments  translated from  en  to  es  is  No se pueden procesar pagos\n",
      "Translate another complaint? yes\n",
      "Please enter the complaint ID of choice you want to translate: 2\n",
      "I keep getting errors when processing account\n",
      "I%20keep%20getting%20errors%20when%20processing%20account\n",
      "Please enter the expected output language: fr\n",
      "fr\n",
      "q=I%20keep%20getting%20errors%20when%20processing%20account&target=fr\n",
      "{\"data\":{\"translations\":[{\"translatedText\":\"Je reçois des erreurs lors du traitement du compte\",\"detectedSourceLanguage\":\"en\"}]}}\n",
      "Translation dictionary:  {'data': {'translations': [{'translatedText': 'Je reçois des erreurs lors du traitement du compte', 'detectedSourceLanguage': 'en'}]}}\n",
      "The complaint you selected was entered in  en\n",
      "This selected complaint,  I keep getting errors when processing account  translated from  en  to  fr  is  Je reçois des erreurs lors du traitement du compte\n",
      "Translate another complaint? no\n"
     ]
    }
   ],
   "source": [
    "print(user_complain)\n",
    "\n",
    "\n",
    "translateFunction(user_complain)\n",
    "\n",
    "\n",
    "while True: \n",
    "  proceed_target = input(\"Translate another complaint? \")\n",
    "  if proceed_target.lower() == \"yes\":\n",
    "    translateFunction(user_complain)\n",
    "\n",
    "  elif proceed_target.lower() == \"no\":\n",
    "    break\n",
    "  else:\n",
    "    print(\"This is not a supported entry. Supported entries are yes and no.\")\n",
    "    continue"
   ]
  },
  {
   "cell_type": "code",
   "execution_count": 13,
   "metadata": {},
   "outputs": [
    {
     "name": "stdout",
     "output_type": "stream",
     "text": [
      "Thank you using our complaint application\n"
     ]
    }
   ],
   "source": [
    "print(\"Thank you using our complaint application\")"
   ]
  },
  {
   "cell_type": "code",
   "execution_count": null,
   "metadata": {},
   "outputs": [],
   "source": []
  }
 ],
 "metadata": {
  "kernelspec": {
   "display_name": "Python 3",
   "language": "python",
   "name": "python3"
  },
  "language_info": {
   "codemirror_mode": {
    "name": "ipython",
    "version": 3
   },
   "file_extension": ".py",
   "mimetype": "text/x-python",
   "name": "python",
   "nbconvert_exporter": "python",
   "pygments_lexer": "ipython3",
   "version": "3.8.5"
  }
 },
 "nbformat": 4,
 "nbformat_minor": 5
}
