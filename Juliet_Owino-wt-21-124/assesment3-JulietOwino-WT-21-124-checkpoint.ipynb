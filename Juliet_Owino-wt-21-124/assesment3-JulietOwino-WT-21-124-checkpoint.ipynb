{
 "cells": [
  {
   "cell_type": "code",
   "execution_count": 1,
   "metadata": {},
   "outputs": [],
   "source": [
    "import json\n",
    "import requests"
   ]
  },
  {
   "cell_type": "code",
   "execution_count": 2,
   "metadata": {},
   "outputs": [],
   "source": [
    "user_complain = {}\n",
    "staff={}"
   ]
  },
  {
   "cell_type": "code",
   "execution_count": 3,
   "metadata": {},
   "outputs": [],
   "source": [
    "def welcome():\n",
    "    \n",
    "    name = input(\"Enter your name:\")\n",
    "    email=input(\"Enter your email address: \")\n",
    "    print(\"Welcome \" +name)\n",
    "    answer =\"\"\n",
    "    while (answer!=\"YES\" and answer!=\"NO\"):\n",
    "        answer= input(\"Do you want to submit a complaint (Yes or No)\").upper()\n",
    "    if answer == \"YES\":\n",
    "        complain = input(\"Enter your complain\")\n",
    "        print(\"complaint submitted successfully\")\n",
    "    elif answer == \"NO\":\n",
    "        print(\"Session terminated\")\n",
    "        \n",
    "    else:\n",
    "        print(\"Invalid Entry, try again\")\n",
    "      \n",
    "    user_complain[name, email]=complain\n",
    "  "
   ]
  },
  {
   "cell_type": "code",
   "execution_count": 4,
   "metadata": {},
   "outputs": [
    {
     "name": "stdout",
     "output_type": "stream",
     "text": [
      "Enter your name:Juliet\n",
      "Enter your email address: juliet.nelly@womentechsters.org\n",
      "Welcome Juliet\n",
      "Do you want to submit a complaint (Yes or No)yes\n",
      "Enter your complainuser guide not clear enough\n",
      "complaint submitted successfully\n"
     ]
    }
   ],
   "source": [
    "welcome()"
   ]
  },
  {
   "cell_type": "code",
   "execution_count": 5,
   "metadata": {},
   "outputs": [],
   "source": [
    "def staff_info():\n",
    "    staff_name=input(\"Name: \")\n",
    "    staff_id=input(\"staff ID: \")\n",
    "    print(\"Welcome\"+staff_name)\n",
    "    staff[staff_id]=staff_name\n",
    "    "
   ]
  },
  {
   "cell_type": "code",
   "execution_count": 6,
   "metadata": {},
   "outputs": [
    {
     "name": "stdout",
     "output_type": "stream",
     "text": [
      "Name: Amimo\n",
      "staff ID: 123\n",
      "WelcomeAmimo\n"
     ]
    }
   ],
   "source": [
    "staff_info()\n"
   ]
  },
  {
   "cell_type": "code",
   "execution_count": 7,
   "metadata": {},
   "outputs": [],
   "source": [
    "def complain_record():\n",
    "    counter = 1\n",
    "    while counter:\n",
    "        checker = int(input(\"1. check complaints, 2. Exit\"))\n",
    "        if checker==1:\n",
    "            for name, email in user_complain.items():\n",
    "                print(\"List of Complaints\")\n",
    "                print(user_complain)\n",
    "        elif checker==2:\n",
    "            print(\"Successful Sign off \")\n",
    "            break\n",
    "        else:\n",
    "            print(\"Invalid Entry, try again\")\n",
    "    \n",
    "    "
   ]
  },
  {
   "cell_type": "code",
   "execution_count": 8,
   "metadata": {},
   "outputs": [
    {
     "name": "stdout",
     "output_type": "stream",
     "text": [
      "1. check complaints, 2. Exit1\n",
      "List of Complaints\n",
      "{('Juliet', 'juliet.nelly@womentechsters.org'): 'user guide not clear enough'}\n",
      "1. check complaints, 2. Exit2\n",
      "Successful Sign off \n"
     ]
    }
   ],
   "source": [
    "complain_record()"
   ]
  },
  {
   "cell_type": "code",
   "execution_count": 19,
   "metadata": {},
   "outputs": [],
   "source": [
    "def language_detect(text):\n",
    "    url = \"https://google-translate1.p.rapidapi.com/language/translate/v2/detect\"\n",
    "\n",
    "    payload = \"q=text\"\n",
    "    headers = {\n",
    "    'content-type': \"application/x-www-form-urlencoded\",\n",
    "    'accept-encoding': \"application/gzip\",\n",
    "    'x-rapidapi-key': \"19d197bed8mshbe2bbe41c85a8dfp1c75b7jsn541fa8a7fa37\",\n",
    "    'x-rapidapi-host': \"google-translate1.p.rapidapi.com\"\n",
    "    }\n",
    "\n",
    "    response = requests.request(\"POST\", url, data=payload, headers=headers)\n",
    "\n",
    "    print(response.text)\n",
    "\n"
   ]
  },
  {
   "cell_type": "code",
   "execution_count": 21,
   "metadata": {},
   "outputs": [],
   "source": [
    "def language_translate(text):\n",
    "    url = \"https://google-translate1.p.rapidapi.com/language/translate/v2\"\n",
    "\n",
    "    payload = \"q=text&target=de&source=en\"\n",
    "    headers = {\n",
    "    'content-type': \"application/x-www-form-urlencoded\",\n",
    "    'accept-encoding': \"application/gzip\",\n",
    "    'x-rapidapi-key': \"19d197bed8mshbe2bbe41c85a8dfp1c75b7jsn541fa8a7fa37\",\n",
    "    'x-rapidapi-host': \"google-translate1.p.rapidapi.com\"\n",
    "    }\n",
    "\n",
    "    response = requests.request(\"POST\", url, data=payload, headers=headers)\n",
    "\n",
    "    print(response.text)"
   ]
  },
  {
   "cell_type": "code",
   "execution_count": null,
   "metadata": {},
   "outputs": [
    {
     "name": "stdout",
     "output_type": "stream",
     "text": [
      "1. Client, 2. Staff, 3.Exit2\n",
      "Name: Amimo\n",
      "staff ID: 123\n",
      "WelcomeAmimo\n",
      "1. check complaints, 2. Exit1\n",
      "List of Complaints\n",
      "{('Juliet', 'juliet.nelly@womentechsters.org'): 'user guide not clear enough'}\n",
      "1. check complaints, 2. Exit2\n",
      "Successful Sign off \n",
      "Text to translate/detect\n",
      "Good morning\n",
      "{\"data\":{\"detections\":[[{\"confidence\":0.7799228429794312,\"isReliable\":false,\"language\":\"en\"}]]}}\n",
      "Good morning\n",
      "{\"data\":{\"translations\":[{\"translatedText\":\"Text\"}]}}\n",
      "None\n"
     ]
    }
   ],
   "source": [
    "def main():\n",
    "    runtime = 1\n",
    "    while runtime:\n",
    "        checker=int(input(\"1. Client, 2. Staff, 3.Exit\"))\n",
    "        if checker==1:\n",
    "            welcome()\n",
    "            \n",
    "        elif checker==2:\n",
    "            staff_info()\n",
    "            complain_record()\n",
    "            print(\"Text to translate/detect\")\n",
    "            complain_text=input()\n",
    "            detect_complain=language_detect(complain_text)\n",
    "            print(complain_text)\n",
    "            translate_complain=language_translate(complain_text)\n",
    "            print(translate_complain)\n",
    "        elif checker==3:\n",
    "            print(\"Successful Sign off\")\n",
    "        else:\n",
    "            print(\"Invalid Entry, try again\")\n",
    "            main()\n",
    "            \n",
    "main()\n",
    "            "
   ]
  },
  {
   "cell_type": "code",
   "execution_count": null,
   "metadata": {},
   "outputs": [],
   "source": []
  }
 ],
 "metadata": {
  "kernelspec": {
   "display_name": "Python 3",
   "language": "python",
   "name": "python3"
  },
  "language_info": {
   "codemirror_mode": {
    "name": "ipython",
    "version": 3
   },
   "file_extension": ".py",
   "mimetype": "text/x-python",
   "name": "python",
   "nbconvert_exporter": "python",
   "pygments_lexer": "ipython3",
   "version": "3.8.5"
  }
 },
 "nbformat": 4,
 "nbformat_minor": 4
}
