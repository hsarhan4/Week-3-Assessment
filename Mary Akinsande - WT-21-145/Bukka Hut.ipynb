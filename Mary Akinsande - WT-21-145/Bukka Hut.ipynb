{
 "cells": [
  {
   "cell_type": "markdown",
   "id": "f2e6c97e",
   "metadata": {},
   "source": [
    "## Importing Libraries"
   ]
  },
  {
   "cell_type": "code",
   "execution_count": 1,
   "id": "25df8d7b",
   "metadata": {},
   "outputs": [],
   "source": [
    "from datetime import datetime as dt\n",
    "from requests.utils import requote_uri\n",
    "import http.client\n",
    "import json"
   ]
  },
  {
   "cell_type": "markdown",
   "id": "0ecba7be",
   "metadata": {},
   "source": [
    "## User's Interface"
   ]
  },
  {
   "cell_type": "code",
   "execution_count": 2,
   "id": "f44b3c83",
   "metadata": {},
   "outputs": [],
   "source": [
    "complain_bank = {}"
   ]
  },
  {
   "cell_type": "code",
   "execution_count": 3,
   "id": "31d2fac8",
   "metadata": {},
   "outputs": [],
   "source": [
    "# create signup page\n",
    "# create empty dictionary that marks the unique ID of the person to the complaint\n",
    "\n",
    "\n",
    "def complain():\n",
    "    complaint_id = 1\n",
    "    while True:\n",
    "        name = input(\"Enter your name: \")\n",
    "        print(\"Welcome to Bukka Hut, {}\".format(name))\n",
    "        order_id = input(\"Enter the ID of the order you are laying complaint for: \")\n",
    "        date = dt.now()\n",
    "        issue = input(\"Please enter your complaint: \")\n",
    "\n",
    "        if order_id in complain_bank.keys() or name in complain_bank.values() or date in complain_bank.values() or issue in complain_bank.values():\n",
    "            print('==========================')\n",
    "            yes_no = input(\"Your complaint has already been registered.\\n Do you want to register another complaint?!\\n Y for Yes and N for No: \")\n",
    "            if yes_no.lower() == \"y\":\n",
    "                continue\n",
    "            elif yes_no.lower() == \"n\":\n",
    "                print(\"Your complaint has been submitted. We will place a call to you shortly.\")\n",
    "                break\n",
    "            else:\n",
    "                print(\"You have entered an invalid response!. Try again.\")\n",
    "                continue\n",
    "        elif name == \"\" or order_id == \"\" or date == \"\" or issue == \"\":\n",
    "            print(\"You have entered an invalid response!. Try again.\")\n",
    "            continue\n",
    "        else:\n",
    "          complain_bank[complaint_id] = {\"order_id\": order_id, \"name\": name, \"date\": date, \"complaint\": issue}\n",
    "          print('Your complaint has been submitted. We will place a call to you shortly.')\n",
    "          complaint_id += 1\n",
    "          yes_no = input(\"Do you want to register another complaint?!\\n Y for Yes and N for No: \")\n",
    "\n",
    "          if yes_no.lower() == \"y\":\n",
    "                continue\n",
    "          elif yes_no.lower() == \"n\":\n",
    "                print(\"Thank you for your feedback.\")\n",
    "                break\n",
    "          else:\n",
    "                print(\"You have entered an invalid response!. Try again\")\n",
    "                continue\n",
    "\n",
    "\n",
    "        "
   ]
  },
  {
   "cell_type": "code",
   "execution_count": 4,
   "id": "9578eec2",
   "metadata": {},
   "outputs": [
    {
     "name": "stdout",
     "output_type": "stream",
     "text": [
      "Enter your name: Mary\n",
      "Welcome to Bukka Hut, Mary\n",
      "Enter the ID of the order you are laying complaint for: 12\n",
      "Please enter your complaint: Food was undercooked\n",
      "Your complaint has been submitted. We will place a call to you shortly.\n",
      "Do you want to register another complaint?!\n",
      " Y for Yes and N for No: Y\n",
      "Enter your name: Mary\n",
      "Welcome to Bukka Hut, Mary\n",
      "Enter the ID of the order you are laying complaint for: 12\n",
      "Please enter your complaint: The meat was also too salty\n",
      "Your complaint has been submitted. We will place a call to you shortly.\n",
      "Do you want to register another complaint?!\n",
      " Y for Yes and N for No: N\n",
      "Thank you for your feedback.\n"
     ]
    }
   ],
   "source": [
    "complain()"
   ]
  },
  {
   "cell_type": "markdown",
   "id": "95eb3f60",
   "metadata": {},
   "source": [
    "## Team's Interface"
   ]
  },
  {
   "cell_type": "code",
   "execution_count": 5,
   "id": "7c2c8776",
   "metadata": {},
   "outputs": [],
   "source": [
    "def api_request(coded_complaint, output_language_code):\n",
    "  conn = http.client.HTTPSConnection(\"google-translate1.p.rapidapi.com\")\n",
    "\n",
    "  headers = {\n",
    "      'content-type': \"application/x-www-form-urlencoded\",\n",
    "      'accept-encoding': \"application/gzip\",\n",
    "      'x-rapidapi-key': \"9129d2818amsh370465bf51d5e0cp155a2djsn86f4bc1ae762\",\n",
    "      'x-rapidapi-host': \"google-translate1.p.rapidapi.com\"\n",
    "      }\n",
    "\n",
    "  payload = \"q=\" + coded_complaint + \"&target=\" + output_language_code\n",
    "  print(payload)\n",
    "\n",
    "  conn.request(\"POST\", \"/language/translate/v2\", payload, headers)\n",
    "\n",
    "  res = conn.getresponse()\n",
    "  data = res.read().decode(\"utf-8\")\n",
    "  return data\n",
    "\n",
    "\n",
    "def translateFunction(complain_bank):\n",
    "  complaint_choice_id = int(input(\"Please enter the complaint ID of choice you want to translate: \"))\n",
    "\n",
    "  complaint_choice = complain_bank[complaint_choice_id]['complaint']\n",
    "  print(complaint_choice)\n",
    "\n",
    "  coded_complaint = requote_uri(complaint_choice)\n",
    "  print(coded_complaint)\n",
    "\n",
    "  output_language_code = input(\"Please enter the expected output language: \")\n",
    " \n",
    "  print(output_language_code)\n",
    "\n",
    "  api_call = api_request(coded_complaint, output_language_code)\n",
    "  print(api_call)\n",
    "\n",
    "  result_dict = json.loads(api_call)\n",
    "  print(\"Translation dictionary: \", result_dict)\n",
    "\n",
    "  complaint_language = result_dict[\"data\"][\"translations\"][0][\"detectedSourceLanguage\"]\n",
    "  print(\"The complaint you selected was entered in \", complaint_language)\n",
    "\n",
    "  translated_result = result_dict[\"data\"][\"translations\"][0][\"translatedText\"]\n",
    "  print(\"This selected complaint, \", complaint_choice, \" translated from \", complaint_language, \" to \", output_language_code, \" is \", translated_result)"
   ]
  },
  {
   "cell_type": "code",
   "execution_count": 6,
   "id": "45c35785",
   "metadata": {},
   "outputs": [
    {
     "name": "stdout",
     "output_type": "stream",
     "text": [
      "{1: {'order_id': '12', 'name': 'Mary', 'date': datetime.datetime(2021, 6, 4, 16, 55, 41, 514742), 'complaint': 'Food was undercooked'}, 2: {'order_id': '12', 'name': 'Mary', 'date': datetime.datetime(2021, 6, 4, 16, 56, 0, 162069), 'complaint': 'The meat was also too salty'}}\n",
      "Please enter the complaint ID of choice you want to translate: 2\n",
      "The meat was also too salty\n",
      "The%20meat%20was%20also%20too%20salty\n",
      "Please enter the expected output language: fr\n",
      "fr\n",
      "q=The%20meat%20was%20also%20too%20salty&target=fr\n",
      "{\"data\":{\"translations\":[{\"translatedText\":\"La viande était aussi trop salée\",\"detectedSourceLanguage\":\"en\"}]}}\n",
      "Translation dictionary:  {'data': {'translations': [{'translatedText': 'La viande était aussi trop salée', 'detectedSourceLanguage': 'en'}]}}\n",
      "The complaint you selected was entered in  en\n",
      "This selected complaint,  The meat was also too salty  translated from  en  to  fr  is  La viande était aussi trop salée\n",
      "Translate another complaint? no\n"
     ]
    }
   ],
   "source": [
    "print(complain_bank)\n",
    "\n",
    "\n",
    "translateFunction(complain_bank)\n",
    "\n",
    "\n",
    "while True: \n",
    "  proceed_target = input(\"Translate another complaint? \")\n",
    "  if proceed_target.lower() == \"yes\":\n",
    "    translateFunction(complain_bank)\n",
    "\n",
    "  elif proceed_target.lower() == \"no\":\n",
    "    break\n",
    "  else:\n",
    "    print(\"This is not a supported entry. Supported entries are yes and no.\")\n",
    "    continue"
   ]
  },
  {
   "cell_type": "code",
   "execution_count": null,
   "id": "33df7203",
   "metadata": {},
   "outputs": [],
   "source": []
  }
 ],
 "metadata": {
  "kernelspec": {
   "display_name": "Python 3",
   "language": "python",
   "name": "python3"
  },
  "language_info": {
   "codemirror_mode": {
    "name": "ipython",
    "version": 3
   },
   "file_extension": ".py",
   "mimetype": "text/x-python",
   "name": "python",
   "nbconvert_exporter": "python",
   "pygments_lexer": "ipython3",
   "version": "3.8.8"
  }
 },
 "nbformat": 4,
 "nbformat_minor": 5
}
