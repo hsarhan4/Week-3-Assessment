{
 "cells": [
  {
   "cell_type": "markdown",
   "metadata": {
    "id": "MZC17o_852oi"
   },
   "source": [
    "**Importing Libraries**"
   ]
  },
  {
   "cell_type": "code",
   "execution_count": 1,
   "metadata": {
    "id": "ZvcM6plFYTCr"
   },
   "outputs": [],
   "source": [
    "from datetime import datetime as dt\n",
    "from requests.utils import requote_uri\n",
    "import http.client\n",
    "import json"
   ]
  },
  {
   "cell_type": "markdown",
   "metadata": {
    "id": "4eGaqI3U5hGC"
   },
   "source": [
    "THE USER END"
   ]
  },
  {
   "cell_type": "code",
   "execution_count": 2,
   "metadata": {
    "id": "xgErf_Omi5ck"
   },
   "outputs": [],
   "source": [
    "user_complain = {}"
   ]
  },
  {
   "cell_type": "code",
   "execution_count": 3,
   "metadata": {
    "id": "3nyFIooCYBBr"
   },
   "outputs": [],
   "source": [
    "\n",
    "\n",
    "\n",
    "def complain():\n",
    "    complaint_id = 1\n",
    "    while True:\n",
    "        name = input(\"Enter your name: \")\n",
    "        print(\"Welcome to our Complaint Management System, {}\".format(name))\n",
    "        product_id = input(\"Enter the ID of the product you are laying complaint for: \")\n",
    "        date = dt.now()\n",
    "        issue = input(\"Please enter your complaint: \")\n",
    "\n",
    "        if product_id in user_complain.keys() or name in user_complain.values() or date in user_complain.values() or issue in user_complain.values():\n",
    "            print('==========================')\n",
    "            yes_no = input(\"Your complaint has already been registered.\\n Do you want to register another complaint?!\\n Y for Yes and N for No: \")\n",
    "            if yes_no.lower() == \"y\":\n",
    "                continue\n",
    "            elif yes_no.lower() == \"n\":\n",
    "                print(\"Thank you for providing your complaint.\")\n",
    "                break\n",
    "            else:\n",
    "                print(\"You have entered an invalid response.\")\n",
    "                continue\n",
    "        elif name == \"\" or product_id == \"\" or date == \"\" or issue == \"\":\n",
    "            print(\"You have entered an invalid response. Please start all over again.\")\n",
    "            continue\n",
    "        else:\n",
    "          user_complain[complaint_id] = {\"product_id\": product_id, \"name\": name, \"date\": date, \"complaint\": issue}\n",
    "          print('Complaint logged successfully!')\n",
    "          complaint_id += 1\n",
    "          yes_no = input(\"Do you want to register another complaint?!\\n Y for Yes and N for No: \")\n",
    "\n",
    "          if yes_no.lower() == \"y\":\n",
    "                continue\n",
    "          elif yes_no.lower() == \"n\":\n",
    "                print(\"Thank you for providing your complaint.\")\n",
    "                break\n",
    "          else:\n",
    "                print(\"You have entered an invalid response.\")\n",
    "                continue\n",
    "\n",
    "\n",
    "        "
   ]
  },
  {
   "cell_type": "code",
   "execution_count": 4,
   "metadata": {
    "id": "BLpbwg7Yin9-"
   },
   "outputs": [
    {
     "name": "stdout",
     "output_type": "stream",
     "text": [
      "Enter your name: Choice Iruh\n",
      "Welcome to our Complaint Management System, Choice Iruh\n",
      "Enter the ID of the product you are laying complaint for: 12345\n",
      "Please enter your complaint: Shoes ordered not my size\n",
      "Complaint logged successfully!\n",
      "Do you want to register another complaint?!\n",
      " Y for Yes and N for No: Y\n",
      "Enter your name: Choice Iruh\n",
      "Welcome to our Complaint Management System, Choice Iruh\n",
      "Enter the ID of the product you are laying complaint for: 13547\n",
      "Please enter your complaint: Clothes delivered not what I ordered\n",
      "Complaint logged successfully!\n",
      "Do you want to register another complaint?!\n",
      " Y for Yes and N for No: N\n",
      "Thank you for providing your complaint.\n"
     ]
    }
   ],
   "source": [
    "complain()"
   ]
  },
  {
   "cell_type": "markdown",
   "metadata": {
    "id": "Y1foVeEf5IKl"
   },
   "source": [
    "THE TEAM's END"
   ]
  },
  {
   "cell_type": "code",
   "execution_count": 5,
   "metadata": {
    "id": "qNSsS6UQtQTs"
   },
   "outputs": [],
   "source": [
    "def api_request(coded_complaint, output_language_code):\n",
    "  conn = http.client.HTTPSConnection(\"google-translate1.p.rapidapi.com\")\n",
    "\n",
    "  headers = {\n",
    "      'content-type': \"application/x-www-form-urlencoded\",\n",
    "      'accept-encoding': \"application/gzip\",\n",
    "      'x-rapidapi-key': \"390c37a65fmsh03237005c27868ep1a87c4jsnd56c83ef5e73\",\n",
    "      'x-rapidapi-host': \"google-translate1.p.rapidapi.com\"\n",
    "      }\n",
    "\n",
    "  payload = \"q=\" + coded_complaint + \"&target=\" + output_language_code\n",
    "  print(payload)\n",
    "\n",
    "  conn.request(\"POST\", \"/language/translate/v2\", payload, headers)\n",
    "\n",
    "  res = conn.getresponse()\n",
    "  data = res.read().decode(\"utf-8\")\n",
    "  return data\n",
    "\n",
    "\n",
    "def translateFunction(user_complain):\n",
    "  complaint_choice_id = int(input(\"Please enter the complaint ID of choice you want to translate: \"))\n",
    "\n",
    "  complaint_choice = user_complain[complaint_choice_id]['complaint']\n",
    "  print(complaint_choice)\n",
    "\n",
    "  coded_complaint = requote_uri(complaint_choice)\n",
    "  print(coded_complaint)\n",
    "\n",
    "  output_language_code = input(\"Please enter the expected output language: \")\n",
    " \n",
    "  print(output_language_code)\n",
    "\n",
    "  api_call = api_request(coded_complaint, output_language_code)\n",
    "  print(api_call)\n",
    "\n",
    "  result_dict = json.loads(api_call)\n",
    "  print(\"Translation dictionary: \", result_dict)\n",
    "\n",
    "  complaint_language = result_dict[\"data\"][\"translations\"][0][\"detectedSourceLanguage\"]\n",
    "  print(\"The complaint you selected was entered in \", complaint_language)\n",
    "\n",
    "  translated_result = result_dict[\"data\"][\"translations\"][0][\"translatedText\"]\n",
    "  print(\"This selected complaint, \", complaint_choice, \" translated from \", complaint_language, \" to \", output_language_code, \" is \", translated_result)"
   ]
  },
  {
   "cell_type": "code",
   "execution_count": 6,
   "metadata": {
    "colab": {
     "base_uri": "https://localhost:8080/"
    },
    "id": "9_W-zx9Pwfl5",
    "outputId": "8759ec09-39ed-4259-dccb-1fd1f33954da"
   },
   "outputs": [
    {
     "name": "stdout",
     "output_type": "stream",
     "text": [
      "{1: {'product_id': '12345', 'name': 'Choice Iruh', 'date': datetime.datetime(2021, 6, 4, 7, 59, 10, 2966), 'complaint': 'Shoes ordered not my size'}, 2: {'product_id': '13547', 'name': 'Choice Iruh', 'date': datetime.datetime(2021, 6, 4, 8, 0, 46, 5550), 'complaint': 'Clothes delivered not what I ordered'}}\n",
      "Please enter the complaint ID of choice you want to translate: 1\n",
      "Shoes ordered not my size\n",
      "Shoes%20ordered%20not%20my%20size\n",
      "Please enter the expected output language: es\n",
      "es\n",
      "q=Shoes%20ordered%20not%20my%20size&target=es\n",
      "{\"data\":{\"translations\":[{\"translatedText\":\"Los zapatos ordenados no son de mi talla\",\"detectedSourceLanguage\":\"en\"}]}}\n",
      "Translation dictionary:  {'data': {'translations': [{'translatedText': 'Los zapatos ordenados no son de mi talla', 'detectedSourceLanguage': 'en'}]}}\n",
      "The complaint you selected was entered in  en\n",
      "This selected complaint,  Shoes ordered not my size  translated from  en  to  es  is  Los zapatos ordenados no son de mi talla\n",
      "Translate another complaint? Y\n",
      "This is not a supported entry. Supported entries are yes and no.\n",
      "Translate another complaint? yes\n",
      "Please enter the complaint ID of choice you want to translate: 2\n",
      "Clothes delivered not what I ordered\n",
      "Clothes%20delivered%20not%20what%20I%20ordered\n",
      "Please enter the expected output language: fr\n",
      "fr\n",
      "q=Clothes%20delivered%20not%20what%20I%20ordered&target=fr\n",
      "{\"data\":{\"translations\":[{\"translatedText\":\"Vêtements livrés pas ce que j&#39;ai commandé\",\"detectedSourceLanguage\":\"en\"}]}}\n",
      "Translation dictionary:  {'data': {'translations': [{'translatedText': 'Vêtements livrés pas ce que j&#39;ai commandé', 'detectedSourceLanguage': 'en'}]}}\n",
      "The complaint you selected was entered in  en\n",
      "This selected complaint,  Clothes delivered not what I ordered  translated from  en  to  fr  is  Vêtements livrés pas ce que j&#39;ai commandé\n",
      "Translate another complaint? no\n"
     ]
    }
   ],
   "source": [
    "print(user_complain)\n",
    "\n",
    "\n",
    "translateFunction(user_complain)\n",
    "\n",
    "\n",
    "while True: \n",
    "  proceed_target = input(\"Translate another complaint? \")\n",
    "  if proceed_target.lower() == \"yes\":\n",
    "    translateFunction(user_complain)\n",
    "\n",
    "  elif proceed_target.lower() == \"no\":\n",
    "    break\n",
    "  else:\n",
    "    print(\"This is not a supported entry. Supported entries are yes and no.\")\n",
    "    continue"
   ]
  },
  {
   "cell_type": "code",
   "execution_count": null,
   "metadata": {},
   "outputs": [],
   "source": []
  }
 ],
 "metadata": {
  "colab": {
   "name": "Complaint Management.ipynb",
   "provenance": []
  },
  "kernelspec": {
   "display_name": "Python 3",
   "language": "python",
   "name": "python3"
  },
  "language_info": {
   "codemirror_mode": {
    "name": "ipython",
    "version": 3
   },
   "file_extension": ".py",
   "mimetype": "text/x-python",
   "name": "python",
   "nbconvert_exporter": "python",
   "pygments_lexer": "ipython3",
   "version": "3.8.8"
  }
 },
 "nbformat": 4,
 "nbformat_minor": 1
}
