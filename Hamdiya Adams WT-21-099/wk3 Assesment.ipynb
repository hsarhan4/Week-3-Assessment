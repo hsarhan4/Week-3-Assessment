{
 "cells": [
  {
   "cell_type": "code",
   "execution_count": null,
   "metadata": {},
   "outputs": [],
   "source": [
    "Submissions = []\n",
    "counter = 1\n",
    "while counter > 0:\n",
    "    print(\"Welcome to Adams ltd\")\n",
    "    y = input(\"Are you a Customer or Team? \")\n",
    "    if y == (\"customer\"):\n",
    "        print(\"Welcome dear customer\")\n",
    "    x = input(\"Please submit your complain:  \")\n",
    "    print(x + \" your complain has been submitted!\")\n",
    "    Submissions.append(x)\n",
    "    counter+=1\n",
    "    print(Submissions)\n",
    "    else:\n",
    "        print(Submissions +\" Pick a complain from the submissions\")\n",
    "from googletrans import Translator\n",
    "translator = Translator()\n",
    "a = input(\"Enter submission you have choosen\")\n",
    "b = input(\"destination Language\")\n",
    "for submit in Submissions:\n",
    "    Results = translator.translate(submit, dest = b)\n",
    "    print(Results)\n"
   ]
  }
 ],
 "metadata": {
  "kernelspec": {
   "display_name": "Python 3",
   "language": "python",
   "name": "python3"
  },
  "language_info": {
   "codemirror_mode": {
    "name": "ipython",
    "version": 3
   },
   "file_extension": ".py",
   "mimetype": "text/x-python",
   "name": "python",
   "nbconvert_exporter": "python",
   "pygments_lexer": "ipython3",
   "version": "3.8.3"
  }
 },
 "nbformat": 4,
 "nbformat_minor": 4
}
