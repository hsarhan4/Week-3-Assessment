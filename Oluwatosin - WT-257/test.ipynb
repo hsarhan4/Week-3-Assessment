{
 "metadata": {
  "language_info": {
   "codemirror_mode": {
    "name": "ipython",
    "version": 3
   },
   "file_extension": ".py",
   "mimetype": "text/x-python",
   "name": "python",
   "nbconvert_exporter": "python",
   "pygments_lexer": "ipython3",
   "version": "3.9.5"
  },
  "orig_nbformat": 2,
  "kernelspec": {
   "name": "python395jvsc74a57bd06514299b4f4224577245cf4327306c9224ca982620da57bfa1537722de88d8c8",
   "display_name": "Python 3.9.5 64-bit ('pytest-8ZhuHVab': pipenv)"
  },
  "metadata": {
   "interpreter": {
    "hash": "7e85ec9bf098c5427e45e2f632dcd4eeff803b007e1abd287d600879388709c1"
   }
  }
 },
 "nbformat": 4,
 "nbformat_minor": 2,
 "cells": [
  {
   "cell_type": "code",
   "execution_count": null,
   "metadata": {},
   "outputs": [],
   "source": [
    "import requests\n",
    "import urllib\n",
    "import json\n",
    "complaints=[]\n",
    "def takeComplaint():\n",
    "    username= input(\"kindly enter your name\")\n",
    "    complain=input(f\"Hello {username}, Kindly input your complaint, seperate each complaint with a comma\")\n",
    "    complainList=complain.split(\",\")\n",
    "    #print(complainList)\n",
    "    for c in complainList:\n",
    "        complaints.append({\n",
    "        \"username\":username,\n",
    "        \"complaint\":c\n",
    "        })\n",
    "takeComplaint()\n",
    "print(f\"Your complaints were added\");\n"
   ]
  },
  {
   "cell_type": "code",
   "execution_count": null,
   "metadata": {},
   "outputs": [],
   "source": [
    "#print(f\"{complaints}\")\n",
    "\n",
    "def listComplaints():\n",
    "    for c in range(len(complaints)):\n",
    "        print(\"Here are the list of submitted complaints\")\n",
    "        print(f\"{c+1}: {complaints[c]['complaint']} by {complaints[c]['username']}\")\n",
    "    complaintChosen=int(input(\"Choose a complaint to translate\"))\n",
    "    complaintData=complaints[complaintChosen-1]\n",
    "    while not complaintData:\n",
    "        print(\"The complaint you choose does not exist\")\n",
    "        complaintChosen=input(\"Choose another complaint to translate\")\n",
    "        complaintData=complaints[complaintChosen-1]\n",
    "    lang= detectlanguage(complaintData['complaint'])\n",
    "    print(f\"The complaint is written in {lang['data']['detections'][0][0]['language']}\")\n",
    "    print(\"Choose a language short below to translate it to\")\n",
    "    langList=fetchlanguages()\n",
    "    for l in langList:\n",
    "        print(f\"{l['language']}\")\n",
    "    destination=input(\"Enter language short code\")\n",
    "    print(f\"Translation to {destination} is:\")\n",
    "    print(translateText(complaintData['complaint'],lang['data']['detections'][0][0]['language'],destination))\n",
    "\n",
    "\n",
    "def detectlanguage(text):\n",
    "    url = \"https://google-translate1.p.rapidapi.com/language/translate/v2/detect\"\n",
    "    textEncoded=urllib.parse.quote(text)\n",
    "    payload =f\"q={textEncoded}\"\n",
    "    headers = {\n",
    "    'content-type': \"application/x-www-form-urlencoded\",\n",
    "    'accept-encoding': \"application/gzip\",\n",
    "    'x-rapidapi-key': \"5e4395c806msh55a0e60769bfe56p18b58djsn24e15d3dcca9\",\n",
    "    'x-rapidapi-host': \"google-translate1.p.rapidapi.com\"\n",
    "    }\n",
    "    response = requests.request(\"POST\", url, data=payload, headers=headers)\n",
    "    #print(response.text,\"language\")\n",
    "    return json.loads(response.text)\n",
    "\n",
    "def fetchlanguages():\n",
    "    url = \"https://google-translate1.p.rapidapi.com/language/translate/v2/languages\"\n",
    "    headers = {\n",
    "    'accept-encoding': \"application/gzip\",\n",
    "    'x-rapidapi-key': \"5e4395c806msh55a0e60769bfe56p18b58djsn24e15d3dcca9\",\n",
    "    'x-rapidapi-host': \"google-translate1.p.rapidapi.com\"\n",
    "    }\n",
    "    response = requests.request(\"GET\", url, headers=headers)\n",
    "    #print(response.text,\"lang\")\n",
    "    data=json.loads(response.text)\n",
    "    #print(data,\"json\")\n",
    "    languages=data['data']['languages']\n",
    "    #print(languages)\n",
    "    return languages\n",
    "\n",
    "def translateText(text,source,destination):\n",
    "    textEncoded=urllib.parse.quote(text)\n",
    "    url = \"https://google-translate1.p.rapidapi.com/language/translate/v2\"\n",
    "    payload = f\"q={textEncoded}&target={destination}&source={source}\"\n",
    "    headers = {\n",
    "    'content-type': \"application/x-www-form-urlencoded\",\n",
    "    'accept-encoding': \"application/gzip\",\n",
    "    'x-rapidapi-key': \"5e4395c806msh55a0e60769bfe56p18b58djsn24e15d3dcca9\",\n",
    "    'x-rapidapi-host': \"google-translate1.p.rapidapi.com\"\n",
    "    }\n",
    "    response = requests.request(\"POST\", url, data=payload, headers=headers)\n",
    "    #print(response.text)\n",
    "    ansJson=json.loads(response.text)\n",
    "\n",
    "    return ansJson['data']['translations'][0]['translatedText']\n",
    "listComplaints()"
   ]
  },
  {
   "cell_type": "code",
   "execution_count": null,
   "metadata": {},
   "outputs": [],
   "source": []
  }
 ]
}