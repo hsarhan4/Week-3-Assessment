{
 "cells": [
  {
   "cell_type": "markdown",
   "id": "259c8a4b",
   "metadata": {},
   "source": [
    "# WEEK-3 ASSESSMENT ON PYTHON AND API"
   ]
  },
  {
   "cell_type": "markdown",
   "id": "7edc4f75",
   "metadata": {},
   "source": [
    "As a Data Scientist, you have been asked by your manager to build a system that helps the team to\n",
    "detect and translate complains made by the company’s French customers to English. And the system \n",
    "should also be able to translate to any language the team specifies.\n"
   ]
  },
  {
   "cell_type": "markdown",
   "id": "4a1facfb",
   "metadata": {},
   "source": [
    "**User Case Story (Customer)**\n",
    "1. The system should welcome me as a user\n",
    "2. The system should ask me to submit complain\n",
    "3. The system should tell me when my when my complain is submitted\n"
   ]
  },
  {
   "cell_type": "code",
   "execution_count": null,
   "id": "e687d508",
   "metadata": {},
   "outputs": [],
   "source": [
    "print(\"Welcome to DHL Customer Service!\")      "
   ]
  },
  {
   "cell_type": "code",
   "execution_count": null,
   "id": "09df109c",
   "metadata": {},
   "outputs": [],
   "source": [
    "def main ():\n",
    "    runtime = 1\n",
    "    while runtime:\n",
    "        checker = int(input(\n",
    "            'Enter 1 to register, 2 to Enter Complaint, 3 to Enter review or feedback , and 4 to quit:'))\n",
    "        if checker == 1:\n",
    "            First_name = input('Enter your First name: ')\n",
    "            Last_name = input('Enter your Last name:')\n",
    "         \n",
    "            print( 'Registered Successfully')\n",
    "        elif checker == 2:\n",
    "            Complaint = input('Please enter your Complaint: ')   \n",
    "            print( 'Complaint has been  Submitted!')\n",
    "            complaint_bank = {\"\"}\n",
    "        elif checker == 3:\n",
    "             Review = input('Enter your review or Feedback:')\n",
    "             print(\"Thank you for the Feedback!\")\n",
    "             \n",
    "        elif checker == 4:\n",
    "             break\n",
    "\n",
    "        else:\n",
    "            print('Invalid value,try again')\n",
    "            main()\n",
    "main()\n"
   ]
  },
  {
   "cell_type": "markdown",
   "id": "27b73841",
   "metadata": {},
   "source": [
    "**User Case Story (Team)**\n",
    "1. The system should list all the complain\n",
    "2. The system should ask me to pick a complain\n",
    "4. The system should be able to detect the language used in a complain text\n",
    "5. The system should be able to translate from one language to the other base on specification "
   ]
  },
  {
   "cell_type": "code",
   "execution_count": null,
   "id": "b9f45ea5",
   "metadata": {},
   "outputs": [],
   "source": [
    "import json\n",
    "data = json.loads(complaint_bank)\n"
   ]
  },
  {
   "cell_type": "code",
   "execution_count": null,
   "id": "d8ed4b44",
   "metadata": {},
   "outputs": [],
   "source": [
    "print('Welcome Team!')"
   ]
  },
  {
   "cell_type": "code",
   "execution_count": null,
   "id": "0affb2e6",
   "metadata": {},
   "outputs": [],
   "source": [
    "complaint_bank ={}\n",
    "complain_ID ='{1,2,3,4,5,6,7,8,9,10,11,12,13,14}'\n",
    "complaint_bank ='{\"1\":\"My package was destroyed upon arrival\",\"2\":\"Le mauvais colis a été livré\",\"3\":\"I dont have a tracking Id for my package\",\"4\":\"Mon colis fragile était fissuré\"}'\n",
    "def User_team():\n",
    "    runtime = 1\n",
    "    while runtime:\n",
    "        checker = int(input(\n",
    "            'Enter 1 to to see the list of Complaint, 2 to pick a Complaint, 3 to Detect Language , 4 to Translate Complaint,and 5 to quit :'))\n",
    "        if checker == 1:\n",
    "            print(list(complaint_bank.values()))\n",
    "        elif checker == 2:\n",
    "            complaint_num = input('Enter complaint ID to pick a Complaint!:')\n",
    "            print(complaint_bank.get(complaint_ID))\n",
    "\n",
    "        elif checker == 3:\n",
    "             complaint_num = input('Enter complaint ID to detect language of Complaint!:')\n",
    "             print(complaint_bank.get(complaint_ID))\n",
    "            \n",
    "             \n",
    "        elif checker == 4:\n",
    "              complaint_num = input('Enter complaint ID  to Translate Complaint!:')\n",
    "              print(complaint_bank.get(complaint_ID))\n",
    "            \n",
    "        elif checker == 5:\n",
    "             print (\"Goodbye\")\n",
    "             \n",
    "             break\n",
    "\n",
    "        else:\n",
    "            print('Invalid value,try again')\n",
    "            User_team()\n",
    "User_team()"
   ]
  },
  {
   "cell_type": "markdown",
   "id": "dc050ab8",
   "metadata": {},
   "source": [
    "# TO DETECT AND TRANSLATE\n",
    "\n"
   ]
  },
  {
   "cell_type": "code",
   "execution_count": null,
   "id": "6f977892",
   "metadata": {},
   "outputs": [],
   "source": [
    "import requests\n",
    "import json\n",
    "\n",
    "url = \"https://google-translate1.p.rapidapi.com/language/translate/v2/detect\"\n",
    "\n",
    "payload = \"q=English%20is%20hard%2C%20but%20detectably%20so\"\n",
    "headers = {\n",
    "    'content-type': \"application/x-www-form-urlencoded\",\n",
    "    'accept-encoding': \"application/gzip\",\n",
    "    'x-rapidapi-key': \"412c57a9d2msh6d797d0f5c13c3fp192a1cjsn90b4debcacdc\",\n",
    "    'x-rapidapi-host': \"google-translate1.p.rapidapi.com\"\n",
    "    }\n",
    "\n",
    "response = requests.request(\"POST\", url, data=payload, headers=headers)\n",
    "\n",
    "print(response.text)"
   ]
  },
  {
   "cell_type": "code",
   "execution_count": null,
   "id": "a368853b",
   "metadata": {},
   "outputs": [],
   "source": [
    "\n",
    "url = \"https://google-translate1.p.rapidapi.com/language/translate/v2\"\n",
    "\n",
    "payload = \"q=Le%20mauvais%20colis%20a%20été%20livré!&target=en&source=fr\"\n",
    "headers = {\n",
    "    'content-type': \"application/x-www-form-urlencoded\",\n",
    "    'accept-encoding': \"application/gzip\",\n",
    "    'x-rapidapi-key': \"412c57a9d2msh6d797d0f5c13c3fp192a1cjsn90b4debcacdc\",\n",
    "    'x-rapidapi-host': \"google-translate1.p.rapidapi.com\"\n",
    "    }\n",
    "\n",
    "response = requests.request(\"POST\", url, data=payload, headers=headers)\n",
    "\n",
    "print(response.text)"
   ]
  },
  {
   "cell_type": "code",
   "execution_count": null,
   "id": "8fc7b637",
   "metadata": {},
   "outputs": [],
   "source": [
    "print(\"Have a nice day!\")"
   ]
  }
 ],
 "metadata": {
  "kernelspec": {
   "display_name": "Python 3",
   "language": "python",
   "name": "python3"
  },
  "language_info": {
   "codemirror_mode": {
    "name": "ipython",
    "version": 3
   },
   "file_extension": ".py",
   "mimetype": "text/x-python",
   "name": "python",
   "nbconvert_exporter": "python",
   "pygments_lexer": "ipython3",
   "version": "3.8.8"
  }
 },
 "nbformat": 4,
 "nbformat_minor": 5
}
