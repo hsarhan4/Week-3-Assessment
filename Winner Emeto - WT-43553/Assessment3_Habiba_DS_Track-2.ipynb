{
 "cells": [
  {
   "cell_type": "markdown",
   "metadata": {},
   "source": [
    "# Week 3 Assessment - Habiba Sarhan"
   ]
  },
  {
   "cell_type": "markdown",
   "metadata": {},
   "source": [
    "# User Case story (Customer)\n",
    "### The system should welcome me as a user\n",
    "### The system should ask me to submit a complaint\n",
    "### The system should tell me when my complain is submitted"
   ]
  },
  {
   "cell_type": "code",
   "execution_count": 1,
   "metadata": {},
   "outputs": [
    {
     "name": "stdout",
     "output_type": "stream",
     "text": [
      "Welcome to our customer satisfaction Unit!\n",
      "Welcome to our customer satisfaction Unit! Press 0 to submit a complaint and 1 to exit:0\n",
      "Please enter your name:  habiba\n",
      "Please submit your complaint:my device is broken.\n",
      "Thank you, your complaint has been submitted successfully and our team will process it within three working days! \n",
      "==========================\n",
      "Welcome to our customer satisfaction Unit! Press 0 to submit a complaint and 1 to exit:0\n",
      "Please enter your name:  islam\n",
      "Please submit your complaint:my screen is broken.\n",
      "Thank you, your complaint has been submitted successfully and our team will process it within three working days! \n",
      "==========================\n",
      "Welcome to our customer satisfaction Unit! Press 0 to submit a complaint and 1 to exit:0\n",
      "Please enter your name:  salma\n",
      "Please submit your complaint:my device is too slow\n",
      "Thank you, your complaint has been submitted successfully and our team will process it within three working days! \n",
      "==========================\n",
      "Welcome to our customer satisfaction Unit! Press 0 to submit a complaint and 1 to exit:1\n",
      "Thank you for visiting our website. Have a wonderful day!\n",
      "Complaint submiited sofar\n",
      "{'habiba': {'my device is broken.'}, 'islam': {'my screen is broken.'}, 'salma': {'my device is too slow'}}\n"
     ]
    }
   ],
   "source": [
    "complaint_bank = {}\n",
    "\n",
    "def submit_complaints():\n",
    "    runtime = True \n",
    "    print(\"Welcome to our customer satisfaction Unit!\")\n",
    "    while runtime:\n",
    "        checker = int(input(\"Welcome to our customer satisfaction Unit! Press 0 to submit a complaint and 1 to exit:\"))\n",
    "        if checker == 0:\n",
    "            name = input(\"Please enter your name:  \")\n",
    "            complaint = input(\"Please submit your complaint:\")\n",
    "            print(\"Thank you, your complaint has been submitted successfully and our team will process it within three working days! \")\n",
    "            print('==========================')\n",
    "            complaint_bank[name] = {complaint}\n",
    "\n",
    "        else:\n",
    "            runtime = False \n",
    "            print(\"Thank you for visiting our website. Have a wonderful day!\")\n",
    "            \n",
    "            print(\"Complaint submiited sofar\")\n",
    "            print(complaint_bank)\n",
    "            \n",
    "submit_complaints()"
   ]
  },
  {
   "cell_type": "markdown",
   "metadata": {},
   "source": [
    "## User Case Story (Team) "
   ]
  },
  {
   "cell_type": "markdown",
   "metadata": {},
   "source": [
    "### List and pick Complaints"
   ]
  },
  {
   "cell_type": "code",
   "execution_count": 2,
   "metadata": {},
   "outputs": [
    {
     "name": "stdout",
     "output_type": "stream",
     "text": [
      "{'habiba': {'my device is broken.'}, 'islam': {'my screen is broken.'}, 'salma': {'my device is too slow'}}\n"
     ]
    }
   ],
   "source": [
    "print(complaint_bank)"
   ]
  },
  {
   "cell_type": "code",
   "execution_count": 3,
   "metadata": {},
   "outputs": [
    {
     "name": "stdout",
     "output_type": "stream",
     "text": [
      "Please enter the complaint name:habiba\n",
      "{'my device is broken.'}\n"
     ]
    }
   ],
   "source": [
    "name = input(\"Please enter the complaint name:\")\n",
    "if name in complaint_bank:\n",
    "    print(complaint_bank[name])\n",
    "else: \n",
    "    print(\"Not found\")\n"
   ]
  },
  {
   "cell_type": "markdown",
   "metadata": {},
   "source": [
    "### Detect Complaint"
   ]
  },
  {
   "cell_type": "code",
   "execution_count": 4,
   "metadata": {},
   "outputs": [
    {
     "name": "stdout",
     "output_type": "stream",
     "text": [
      "Please enter the complaint name:habiba\n",
      "my device is broken.\n",
      "{\"data\":{\"detections\":[[{\"confidence\":1,\"isReliable\":false,\"language\":\"en\"}]]}}\n"
     ]
    }
   ],
   "source": [
    "import requests\n",
    "from urllib.parse import quote\n",
    "\n",
    "def detect_langauge(text):\n",
    "    url = \"https://google-translate1.p.rapidapi.com/language/translate/v2/detect\"\n",
    "    payload = \"q=\" + quote(text)\n",
    "    \n",
    "    headers = {\n",
    "    'content-type': \"application/x-www-form-urlencoded\",\n",
    "    'accept-encoding': \"application/gzip\",\n",
    "    'x-rapidapi-key': \"6464df7f3dmsh79109d96d292f30p1d2e4cjsn32767b241ca1\",\n",
    "    'x-rapidapi-host': \"google-translate1.p.rapidapi.com\"\n",
    "    }\n",
    "    \n",
    "    response = requests.request(\"POST\", url, data=payload, headers=headers)\n",
    "    \n",
    "    return(response.text)\n",
    "\n",
    "\n",
    "name = input(\"Please enter the complaint name:\")\n",
    "if name in complaint_bank:\n",
    "    complain_string = list(complaint_bank[name])[0]\n",
    "    print(complain_string)\n",
    "    print(detect_langauge(complain_string))\n",
    "else:\n",
    "    print(\"Not found\")"
   ]
  },
  {
   "cell_type": "markdown",
   "metadata": {},
   "source": [
    "### Convert the string into json and get only the language as the output"
   ]
  },
  {
   "cell_type": "code",
   "execution_count": 62,
   "metadata": {},
   "outputs": [],
   "source": [
    "import json"
   ]
  },
  {
   "cell_type": "code",
   "execution_count": 63,
   "metadata": {},
   "outputs": [],
   "source": [
    "complaints_json = json.loads('{\"data\":{\"detections\":[[{\"language\":\"en\",\"isReliable\":false,\"confidence\":0.8180167078971863}]]}}')"
   ]
  },
  {
   "cell_type": "code",
   "execution_count": 64,
   "metadata": {},
   "outputs": [
    {
     "data": {
      "text/plain": [
       "{'data': {'detections': [[{'confidence': 0.8180167078971863,\n",
       "     'isReliable': False,\n",
       "     'language': 'en'}]]}}"
      ]
     },
     "execution_count": 64,
     "metadata": {},
     "output_type": "execute_result"
    }
   ],
   "source": [
    "complaints_json"
   ]
  },
  {
   "cell_type": "code",
   "execution_count": 65,
   "metadata": {},
   "outputs": [
    {
     "data": {
      "text/plain": [
       "{'detections': [[{'confidence': 0.8180167078971863,\n",
       "    'isReliable': False,\n",
       "    'language': 'en'}]]}"
      ]
     },
     "execution_count": 65,
     "metadata": {},
     "output_type": "execute_result"
    }
   ],
   "source": [
    "complaints_json[\"data\"]"
   ]
  },
  {
   "cell_type": "code",
   "execution_count": 66,
   "metadata": {},
   "outputs": [
    {
     "data": {
      "text/plain": [
       "[[{'confidence': 0.8180167078971863, 'isReliable': False, 'language': 'en'}]]"
      ]
     },
     "execution_count": 66,
     "metadata": {},
     "output_type": "execute_result"
    }
   ],
   "source": [
    "complaints_json[\"data\"][\"detections\"]"
   ]
  },
  {
   "cell_type": "code",
   "execution_count": 67,
   "metadata": {},
   "outputs": [
    {
     "data": {
      "text/plain": [
       "[{'confidence': 0.8180167078971863, 'isReliable': False, 'language': 'en'}]"
      ]
     },
     "execution_count": 67,
     "metadata": {},
     "output_type": "execute_result"
    }
   ],
   "source": [
    "complaints_json[\"data\"][\"detections\"][0]"
   ]
  },
  {
   "cell_type": "code",
   "execution_count": 68,
   "metadata": {},
   "outputs": [
    {
     "data": {
      "text/plain": [
       "{'confidence': 0.8180167078971863, 'isReliable': False, 'language': 'en'}"
      ]
     },
     "execution_count": 68,
     "metadata": {},
     "output_type": "execute_result"
    }
   ],
   "source": [
    "complaints_json[\"data\"][\"detections\"][0][0]"
   ]
  },
  {
   "cell_type": "code",
   "execution_count": 69,
   "metadata": {},
   "outputs": [
    {
     "data": {
      "text/plain": [
       "'en'"
      ]
     },
     "execution_count": 69,
     "metadata": {},
     "output_type": "execute_result"
    }
   ],
   "source": [
    "complaints_json[\"data\"][\"detections\"][0][0][\"language\"]"
   ]
  },
  {
   "cell_type": "markdown",
   "metadata": {},
   "source": [
    "### Enhanced version of language detection\n"
   ]
  },
  {
   "cell_type": "code",
   "execution_count": 22,
   "metadata": {},
   "outputs": [
    {
     "name": "stdout",
     "output_type": "stream",
     "text": [
      "Please enter the complaint name:habiba\n",
      "{'data': {'detections': [[{'confidence': 1, 'language': 'en', 'isReliable': False}]]}}\n",
      "en\n"
     ]
    }
   ],
   "source": [
    "import requests\n",
    "import json \n",
    "from urllib.parse import quote\n",
    "\n",
    "def detect_langauge(text):\n",
    "    url = \"https://google-translate1.p.rapidapi.com/language/translate/v2/detect\"\n",
    "    payload = \"q=\" + quote(text)\n",
    "    \n",
    "    headers = {\n",
    "    'content-type': \"application/x-www-form-urlencoded\",\n",
    "    'accept-encoding': \"application/gzip\",\n",
    "    'x-rapidapi-key': \"6464df7f3dmsh79109d96d292f30p1d2e4cjsn32767b241ca1\",\n",
    "    'x-rapidapi-host': \"google-translate1.p.rapidapi.com\"\n",
    "    }\n",
    "    \n",
    "    response = requests.request(\"POST\", url, data=payload, headers=headers)\n",
    "    response_text = response.text\n",
    "    complaints_json = json.loads(response_text)\n",
    "    detected_language = complaints_json[\"data\"][\"detections\"][0][0][\"language\"]\n",
    "    return(detected_language)\n",
    "\n",
    "\n",
    "name = input(\"Please enter the complaint name:\")\n",
    "if name in complaint_bank:\n",
    "    complain_string = list(complaint_bank[name])[0]\n",
    "    #print(complain_string)\n",
    "    #complaints_json = json.loads(detect_langauge(complain_string))\n",
    "    #print(complaints_json)\n",
    "    # print(detect_langauge(complaints_json))\n",
    "    #print(\"The language detected is.....\")\n",
    "    #print(complaints_json[\"data\"][\"detections\"][0][0][\"language\"])\n",
    "    #print(detect_langauge(complain_string))\n",
    "else:\n",
    "    print(\"Not found\")"
   ]
  },
  {
   "cell_type": "markdown",
   "metadata": {},
   "source": [
    "### Translate Complaint "
   ]
  },
  {
   "cell_type": "code",
   "execution_count": 29,
   "metadata": {},
   "outputs": [
    {
     "name": "stdout",
     "output_type": "stream",
     "text": [
      "Please enter the complaint name:habiba\n",
      "{'data': {'detections': [[{'confidence': 1, 'language': 'en', 'isReliable': False}]]}}\n",
      "mein gerät ist kaputt.\n"
     ]
    }
   ],
   "source": [
    "import requests\n",
    "from urllib.parse import quote\n",
    "\n",
    "def translate_langauge(text, target_language):\n",
    "    \n",
    "    source_language = detect_langauge(text)\n",
    "    url = \"https://google-translate1.p.rapidapi.com/language/translate/v2\"\n",
    "    # payload = \"q=Hello%2C%20world!&target=es&source=en\"\n",
    "    payload = \"q=\" + quote(text) + \"&target=\" + target_language + \"&source=\" + source_language\n",
    "    \n",
    "    headers = {\n",
    "    'content-type': \"application/x-www-form-urlencoded\",\n",
    "    'accept-encoding': \"application/gzip\",\n",
    "    'x-rapidapi-key': \"6464df7f3dmsh79109d96d292f30p1d2e4cjsn32767b241ca1\",\n",
    "    'x-rapidapi-host': \"google-translate1.p.rapidapi.com\"\n",
    "    }\n",
    "    response = requests.request(\"POST\", url, data=payload, headers=headers)\n",
    "\n",
    "    return response.text\n",
    "\n",
    "\n",
    "# result = translate_langauge(\"good morning\", \"es\")\n",
    "\n",
    "\n",
    "name = input(\"Please enter the complaint name:\")\n",
    "if name in complaint_bank:\n",
    "    complain_string = list(complaint_bank[name])[0]\n",
    "    translated_object = json.loads(translate_langauge(complain_string, \"de\"))\n",
    "    translation = translated_object[\"data\"][\"translations\"][0][\"translatedText\"]\n",
    "    print(translation)\n",
    "else:\n",
    "    print(\"Not found\")"
   ]
  },
  {
   "cell_type": "code",
   "execution_count": null,
   "metadata": {},
   "outputs": [],
   "source": []
  },
  {
   "cell_type": "code",
   "execution_count": null,
   "metadata": {},
   "outputs": [],
   "source": []
  }
 ],
 "metadata": {
  "kernelspec": {
   "display_name": "Python 3",
   "language": "python",
   "name": "python3"
  },
  "language_info": {
   "codemirror_mode": {
    "name": "ipython",
    "version": 3
   },
   "file_extension": ".py",
   "mimetype": "text/x-python",
   "name": "python",
   "nbconvert_exporter": "python",
   "pygments_lexer": "ipython3",
   "version": "3.6.4"
  }
 },
 "nbformat": 4,
 "nbformat_minor": 2
}
