{
 "cells": [
  {
   "cell_type": "code",
   "execution_count": 16,
   "id": "e007a9c8",
   "metadata": {},
   "outputs": [],
   "source": [
    "#system to detect and translate complains made by french customers from French to English, \n",
    "#or from french to any language specified"
   ]
  },
  {
   "cell_type": "code",
   "execution_count": 25,
   "id": "dcb21829",
   "metadata": {},
   "outputs": [],
   "source": [
    "import json\n",
    "import requests"
   ]
  },
  {
   "cell_type": "code",
   "execution_count": 26,
   "id": "0eeb7c36",
   "metadata": {},
   "outputs": [
    {
     "data": {
      "text/plain": [
       "'defining the customer function to input name,address and complains'"
      ]
     },
     "execution_count": 26,
     "metadata": {},
     "output_type": "execute_result"
    }
   ],
   "source": [
    "'storing name,complains in a dictionary'\n",
    "\n",
    "complain = {}\n",
    "mgt_name = {}\n",
    "'defining the customer function to input name,address and complains'"
   ]
  },
  {
   "cell_type": "code",
   "execution_count": 27,
   "id": "30b5b0ae",
   "metadata": {},
   "outputs": [],
   "source": [
    "def customer ():\n",
    "\n",
    "        fstname = input(\"Your name?: \\n\")\n",
    "        custaddr = input(\"Your Address Please: \\n\")\n",
    "        complains = input(\"Please let us know what your complain is:\\n\")\n",
    "        complain[fstname,custaddr] = complains"
   ]
  },
  {
   "cell_type": "code",
   "execution_count": 28,
   "id": "c405eb9a",
   "metadata": {},
   "outputs": [],
   "source": [
    "def complaints ():\n",
    "        counters = 1\n",
    "        while counters:\n",
    "          checker = int(input(\"Enter 1 to view complains, 2 to exit:\\n\"))\n",
    "          if  checker == 1:\n",
    "               for fstname, custaddr in complain.items():\n",
    "                   print(\"Here are the Complains:\")\n",
    "                   print(complain)\n",
    "          elif checker == 2:\n",
    "                  print(\"System Logged Off.You have exited!\\n\")\n",
    "                  break\n",
    "          else:\n",
    "                print(\"=========Invalid==========\")"
   ]
  },
  {
   "cell_type": "code",
   "execution_count": 29,
   "id": "3526a7c4",
   "metadata": {},
   "outputs": [],
   "source": [
    "def management ():\n",
    "    \n",
    "        mgt_names = input(\"Your name?\\n\")\n",
    "        user_id = input(\"Your user_id?\\n\")\n",
    "        print(\"Welcome:\"+ mgt_names)\n",
    "        mgt_name[user_id] = mgt_names"
   ]
  },
  {
   "cell_type": "code",
   "execution_count": 30,
   "id": "8ae5e3c2",
   "metadata": {},
   "outputs": [],
   "source": [
    "def detect_source_language (text):\n",
    "\n",
    "    url = \"https://google-translate1.p.rapidapi.com/language/translate/v2/detect\"\n",
    "\n",
    "    payload = \"q=text\"\n",
    "    headers = {\n",
    "        'content-type': \"application/x-www-form-urlencoded\",\n",
    "        'accept-encoding': \"application/gzip\",\n",
    "        'x-rapidapi-key': \"0d3c1659cemsh6d45a3889362eaap16ec03jsn18b07ac02af7\",\n",
    "        'x-rapidapi-host': \"google-translate1.p.rapidapi.com\"\n",
    "        }\n",
    "\n",
    "    response = requests.request(\"POST\", url, data=payload, headers=headers)\n",
    "\n",
    "    print(response.text)"
   ]
  },
  {
   "cell_type": "code",
   "execution_count": 31,
   "id": "87ee6d0c",
   "metadata": {},
   "outputs": [],
   "source": [
    "def translate_language (text):\n",
    "\n",
    "    url = \"https://google-translate1.p.rapidapi.com/language/translate/v2\"\n",
    "\n",
    "    payload = \"q=text&target=en&source=fr\"\n",
    "    headers = {\n",
    "        'content-type': \"application/x-www-form-urlencoded\",\n",
    "        'accept-encoding': \"application/gzip\",\n",
    "        'x-rapidapi-key': \"0d3c1659cemsh6d45a3889362eaap16ec03jsn18b07ac02af7\",\n",
    "        'x-rapidapi-host': \"google-translate1.p.rapidapi.com\"\n",
    "        }\n",
    "\n",
    "    response = requests.request(\"POST\", url, data=payload, headers=headers)\n",
    "\n",
    "    print(response.text)"
   ]
  },
  {
   "cell_type": "code",
   "execution_count": 32,
   "id": "bb7b8a81",
   "metadata": {},
   "outputs": [],
   "source": [
    "def translates ():\n",
    "    counters = 1\n",
    "    while counters:\n",
    "          checker = int(input(\"Enter 1 to translate, 2 to exit:\\n\"))\n",
    "          if  checker == 1:\n",
    "              print(\"Please enter the text you would like to translate: \") \n",
    "              text1 = input()\n",
    "              text2 = detect_source_language(text1)\n",
    "              print(text1)\n",
    "              text1 = translate_language(text1)\n",
    "              print(text1)\n",
    "              \n",
    "          elif checker ==2:\n",
    "                  print(\"System Logged Off.You have exited!\\n\")\n",
    "                  break\n",
    "          else:\n",
    "                print(\"=========Invalid==========\")"
   ]
  },
  {
   "cell_type": "code",
   "execution_count": null,
   "id": "9e57bd90",
   "metadata": {},
   "outputs": [
    {
     "name": "stdout",
     "output_type": "stream",
     "text": [
      "Welcome to Sparkle's Gift House\n",
      "Enter 1 for Returning Customer, 2 for staff, 4 to choose again \n",
      "1\n",
      "Your name?: \n",
      "gfh\n",
      "Your Address Please: \n",
      "dff\n",
      "Please let us know what your complain is:\n",
      "Shipment lost\n",
      "Your complain has been received successfully.We will get back to you within 24 hrs\n",
      "Enter 1 for Returning Customer, 2 for staff, 4 to choose again \n",
      "2\n",
      "Your name?\n",
      "dgs\n",
      "Your user_id?\n",
      "et\n",
      "Welcome:dgs\n",
      "Enter 1 to view complains, 2 to exit:\n",
      "1\n",
      "Here are the Complains:\n",
      "{('gfh', 'dff'): 'Shipment lost'}\n",
      "Enter 1 to view complains, 2 to exit:\n",
      "2\n",
      "System Logged Off.You have exited!\n",
      "\n",
      "Enter 1 to translate, 2 to exit:\n",
      "1\n",
      "Please enter the text you would like to translate: \n",
      "Ich liebe\n",
      "{\"data\":{\"detections\":[[{\"confidence\":0.7799228429794312,\"language\":\"en\",\"isReliable\":false}]]}}\n",
      "Ich liebe\n",
      "{\"data\":{\"translations\":[{\"translatedText\":\"text\"}]}}\n",
      "None\n"
     ]
    }
   ],
   "source": [
    "def main():\n",
    "    runtime = 1\n",
    "    print(\"Welcome to Sparkle\\'s Gift House\")\n",
    "    while runtime:\n",
    "        checker = int(input(\n",
    "            'Enter 1 for Returning Customer, 2 for staff, 4 to choose again \\n'))\n",
    "        if checker == 1:\n",
    "            customer()\n",
    "            print(\"Your complain has been received successfully.We will get back to you within 24 hrs\")\n",
    "        elif checker == 2:\n",
    "            management()\n",
    "            complaints()\n",
    "            translates()\n",
    "        elif checker == 4:\n",
    "            break\n",
    "        else:\n",
    "            print('Invalid Request, try again')\n",
    "            main()\n",
    "main()"
   ]
  },
  {
   "cell_type": "code",
   "execution_count": null,
   "id": "53cdfc7a",
   "metadata": {},
   "outputs": [],
   "source": []
  },
  {
   "cell_type": "code",
   "execution_count": null,
   "id": "50620d66",
   "metadata": {},
   "outputs": [],
   "source": []
  }
 ],
 "metadata": {
  "kernelspec": {
   "display_name": "Python 3",
   "language": "python",
   "name": "python3"
  }
 },
 "nbformat": 4,
 "nbformat_minor": 5
}
