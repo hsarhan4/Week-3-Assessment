{
 "cells": [
  {
   "cell_type": "markdown",
   "metadata": {},
   "source": [
    "<h1> Customer Complaints' Language Translation Project</h1>"
   ]
  },
  {
   "cell_type": "markdown",
   "metadata": {},
   "source": [
    "<h2>Python and API</h2>"
   ]
  },
  {
   "cell_type": "code",
   "execution_count": null,
   "metadata": {},
   "outputs": [],
   "source": [
    "#import libraries\n",
    "import random\n",
    "import string\n",
    "import requests\n",
    "import json\n",
    "import numpy as np"
   ]
  },
  {
   "cell_type": "code",
   "execution_count": null,
   "metadata": {},
   "outputs": [],
   "source": [
    "complaint_database={}\n"
   ]
  },
  {
   "cell_type": "code",
   "execution_count": null,
   "metadata": {},
   "outputs": [],
   "source": [
    "def customer_requirement():\n",
    "    \"\"\"\n",
    "        This function satisfies the customer requirements. It asks for the name of the customer and\n",
    "        assigns an ID to the customer.\n",
    "    \"\"\"\n",
    "    \n",
    "    print(\"You are welcome\")\n",
    "    print(\" \\n\")\n",
    "    name=input(\"Please, enter your name \",)\n",
    "    print(\"Please, submit your complaint\",name)\n",
    "    complaint=input(str())\n",
    "    print(\"Your complaint has been submitted.\")\n",
    "    ID=''.join((random.choice(string.ascii_lowercase)) for id in range(4))+str(np.random.randint(100,999))\n",
    "    complaint_database[ID] = {\"Name\": name, \"Complaint\":complaint}\n",
    "    print(f'Your ID is {ID}. Please save it for future references')"
   ]
  },
  {
   "cell_type": "code",
   "execution_count": null,
   "metadata": {},
   "outputs": [],
   "source": [
    "def get_complaint_lang(complaint): #This API gets the language that the complaint was written in\n",
    "   \n",
    "    url = \"https://google-translate1.p.rapidapi.com/language/translate/v2/detect\"\n",
    "\n",
    "    payload = f\"q={complaint}\"\n",
    "    headers = {\n",
    "        'content-type': \"application/x-www-form-urlencoded\",\n",
    "        'accept-encoding': \"application/gzip\",\n",
    "        'x-rapidapi-key': Enter your Secret key,\n",
    "        'x-rapidapi-host': \"google-translate1.p.rapidapi.com\"\n",
    "        }\n",
    "\n",
    "    response = requests.request(\"POST\", url, data=payload.encode('utf-8'), headers=headers)\n",
    "\n",
    "    responses = json.loads(response.text)\n",
    "    \n",
    "    return responses[\"data\"][\"detections\"][0][0][\"language\"]"
   ]
  },
  {
   "cell_type": "code",
   "execution_count": null,
   "metadata": {},
   "outputs": [],
   "source": [
    "def complaint_translate(complaint,translate_to,translate_from): #This API detects the language\n",
    "    \n",
    "    url = \"https://google-translate1.p.rapidapi.com/language/translate/v2\"\n",
    "\n",
    "    payload = f\"q={complaint}&target={translate_to}&source={translate_from}\"\n",
    "    headers = {\n",
    "        'content-type': \"application/x-www-form-urlencoded\",\n",
    "        'accept-encoding': \"application/gzip\",\n",
    "        'x-rapidapi-key':Enter your Secret Key,\n",
    "        'x-rapidapi-host': \"google-translate1.p.rapidapi.com\"\n",
    "        }\n",
    "\n",
    "    response = requests.request(\"POST\", url, data=payload.encode('utf-8'), headers=headers)\n",
    "\n",
    "    translations = json.loads(response.text)\n",
    "    return f\"{complaint} ==> \" + translations[\"data\"][\"translations\"][0][\"translatedText\"]"
   ]
  },
  {
   "cell_type": "code",
   "execution_count": null,
   "metadata": {},
   "outputs": [],
   "source": [
    "def team_requirement_detect():\n",
    "    \"\"\"\n",
    "        This function implements the requirement of the team.\n",
    "        It returns the database that contains all the complaints that have been received and translates to\n",
    "        the specified language.    \n",
    "    \"\"\"\n",
    "    \n",
    "    print(\"We have the following currently in our database: \")\n",
    "    print(\"\\n\")\n",
    "    all_complaints=print(complaint_database)\n",
    "    print(\"\\n\")\n",
    "    print(\"Enter the id of the customer's complaint\")\n",
    "    team_act=input()\n",
    "    while team_act not in complaint_database.keys():\n",
    "        print(\"Please enter a valid value\")\n",
    "        team_act=input()\n",
    "    if team_act in complaint_database.keys():\n",
    "        val=complaint_database[team_act]\n",
    "        complaint_extract=val[\"Complaint\"]\n",
    "        print(\"The detected language is: \")\n",
    "        print(get_complaint_lang(complaint_extract))"
   ]
  },
  {
   "cell_type": "code",
   "execution_count": null,
   "metadata": {},
   "outputs": [],
   "source": [
    "def team_requirement_translate():\n",
    "    \"\"\"\n",
    "        This function implements the team requirement of translating the language detected to the language \n",
    "        they have chosen. It returns the value the database of complaints and translates to their desired language.\n",
    "    \n",
    "    \"\"\"\n",
    "    print(\"We have the following currently in our database: \")\n",
    "    print(\"\\n\")\n",
    "    all_complaints=print(complaint_database)\n",
    "    print(\"\\n\")\n",
    "    print(\"Enter the id of the customer's complaint\")\n",
    "    team_act=input()\n",
    "    while team_act not in complaint_database.keys():\n",
    "        print(\"Please enter a valid value\")\n",
    "        team_act=input()\n",
    "    if team_act in complaint_database.keys():\n",
    "        val=complaint_database[team_act]\n",
    "        complaint_extract=val[\"Complaint\"]\n",
    "        translate_from=get_complaint_lang(complaint_extract)\n",
    "        try:\n",
    "            translate_to = str(input(\"Enter the code of the language you want to translate to: \")).lower()\n",
    "            print(complaint_translate(complaint_extract,translate_to,translate_from))\n",
    "        except:\n",
    "            print(\"Invalid language code. Check \\n Ref: https://developers.google.com/admin-sdk/directory/v1/languages and try again later.\")\n"
   ]
  },
  {
   "cell_type": "code",
   "execution_count": null,
   "metadata": {},
   "outputs": [],
   "source": [
    "def main():\n",
    "    runtime = 1\n",
    "    print('Welcome to Success Vera Academy')\n",
    "    while runtime:\n",
    "        checker = int(input('Enter 0 to register your complaint, 1 for for employee login, 2 to quit: '))\n",
    "        print(\"\\n\")\n",
    "\n",
    "        if checker == 0:\n",
    "            customer_requirement()\n",
    "        elif checker == 1:\n",
    "            trans_or_detect=int(input(\"Enter 3 to detect a language or 4 to translate \"))\n",
    "            print(\"\\n\")\n",
    "            if trans_or_detect==3:\n",
    "                team_requirement_detect()\n",
    "            elif trans_or_detect==4:\n",
    "                team_requirement_translate()\n",
    "            else:\n",
    "                print(\"Try again\")\n",
    "        elif checker == 2:\n",
    "            break\n",
    "\n",
    "        else:\n",
    "            print(\"Try again\")\n",
    "\n",
    "\n",
    "main()"
   ]
  },
  {
   "cell_type": "markdown",
   "metadata": {},
   "source": []
  }
 ],
 "metadata": {
  "kernelspec": {
   "display_name": "Python 3",
   "language": "python",
   "name": "python3"
  },
  "language_info": {
   "codemirror_mode": {
    "name": "ipython",
    "version": 3
   },
   "file_extension": ".py",
   "mimetype": "text/x-python",
   "name": "python",
   "nbconvert_exporter": "python",
   "pygments_lexer": "ipython3",
   "version": "3.7.3"
  }
 },
 "nbformat": 4,
 "nbformat_minor": 2
}
